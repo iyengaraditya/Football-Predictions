{
  "nbformat": 4,
  "nbformat_minor": 0,
  "metadata": {
    "colab": {
      "name": "Football Predictions",
      "provenance": [],
      "collapsed_sections": [],
      "mount_file_id": "1nKrWNU52robad97DboB-A2fMHYBwtp8a",
      "authorship_tag": "ABX9TyNEso7fryutyJwccJHddosS",
      "include_colab_link": true
    },
    "kernelspec": {
      "name": "python3",
      "display_name": "Python 3"
    },
    "accelerator": "GPU"
  },
  "cells": [
    {
      "cell_type": "markdown",
      "metadata": {
        "id": "view-in-github",
        "colab_type": "text"
      },
      "source": [
        "<a href=\"https://colab.research.google.com/github/iyengaraditya/Football-Predictions/blob/master/Football_Predictions.ipynb\" target=\"_parent\"><img src=\"https://colab.research.google.com/assets/colab-badge.svg\" alt=\"Open In Colab\"/></a>"
      ]
    },
    {
      "cell_type": "markdown",
      "metadata": {
        "id": "Ztb3Tam_ZYJr",
        "colab_type": "text"
      },
      "source": [
        "(A) TEAM SELECTION \n",
        "\n",
        "*   *extract_roster(team, year)*: Returns the entire roster of a team (team) for a particular season (year)\n",
        "*   *playing_eleven(team, year)*: Returns the best starting eleven of a team (team) for a particular season (year)\n",
        "* *process_starters(team, year)*: Returns the formation that the team (team) should play in for a particular season (year"
      ]
    },
    {
      "cell_type": "code",
      "metadata": {
        "id": "rSCWTj9cN47z",
        "colab_type": "code",
        "colab": {}
      },
      "source": [
        "import pandas as pd\n",
        "player_data = pd.read_csv('players_complete.csv', sep = ',', encoding='latin1')\n",
        "player_ratings = player_data.values[0:, 0:12]"
      ],
      "execution_count": 159,
      "outputs": []
    },
    {
      "cell_type": "code",
      "metadata": {
        "id": "7oU4Dy2xq93S",
        "colab_type": "code",
        "colab": {}
      },
      "source": [
        "def extract_roster(team, year):\n",
        "  roster = []\n",
        "  for i in range(0, len(player_ratings)):\n",
        "    if (player_ratings[i][0]==year and player_ratings[i][5]==team):\n",
        "      roster.append(player_ratings[i])\n",
        "  return roster"
      ],
      "execution_count": 160,
      "outputs": []
    },
    {
      "cell_type": "code",
      "metadata": {
        "id": "H_rqTW0ArYHR",
        "colab_type": "code",
        "colab": {}
      },
      "source": [
        "def playing_eleven(team, year):\n",
        "  roster_demo = extract_roster(team, year)\n",
        "  starters_u = []\n",
        "  for i in range(0, len(roster_demo)):\n",
        "    if(roster_demo[i][10]!=\"RES\" and roster_demo[i][10]!=\"SUB\"):\n",
        "      starters_u.append(roster_demo[i])\n",
        "  return starters_u"
      ],
      "execution_count": 161,
      "outputs": []
    },
    {
      "cell_type": "code",
      "metadata": {
        "id": "KeTDfDN-wuGm",
        "colab_type": "code",
        "colab": {}
      },
      "source": [
        "def process_starters(team, year):\n",
        "  starters = playing_eleven(team, year)\n",
        "  starting_eleven=[]\n",
        "  def_count = 0\n",
        "  mid_count = 0\n",
        "  att_count = 0\n",
        "  posn = \"\"\n",
        "  name = \"\"\n",
        "  for i in range(0, len(starters)):\n",
        "    posn = starters[i][10]\n",
        "    name = starters[i][2]\n",
        "    if(posn==\"GK\"):\n",
        "      starting_eleven.append(name)\n",
        "  for i in range(0, len(starters)):\n",
        "    posn = starters[i][10]\n",
        "    name = starters[i][2]\n",
        "    if(posn==\"RB\" or posn==\"RWB\"):\n",
        "      def_count = def_count + 1\n",
        "      starting_eleven.append(name)\n",
        "  for i in range(0, len(starters)):\n",
        "    posn = starters[i][10]\n",
        "    name = starters[i][2]\n",
        "    if(posn==\"RCB\"):\n",
        "      def_count = def_count + 1\n",
        "      starting_eleven.append(name)\n",
        "  for i in range(0, len(starters)):\n",
        "    posn = starters[i][10]\n",
        "    name = starters[i][2]\n",
        "    if(posn==\"CB\"):\n",
        "      def_count = def_count + 1\n",
        "      starting_eleven.append(name)\n",
        "  for i in range(0, len(starters)):\n",
        "    posn = starters[i][10]\n",
        "    name = starters[i][2]\n",
        "    if(posn==\"LCB\"):\n",
        "      def_count = def_count + 1\n",
        "      starting_eleven.append(name)\n",
        "  for i in range(0, len(starters)):\n",
        "    posn = starters[i][10]\n",
        "    name = starters[i][2]\n",
        "    if(posn==\"LB\" or posn==\"LWB\"):\n",
        "      def_count = def_count + 1\n",
        "      starting_eleven.append(name)\n",
        "  for i in range(0, len(starters)):\n",
        "    posn = starters[i][10]\n",
        "    name = starters[i][2]\n",
        "    if(posn==\"RM\"):\n",
        "      mid_count = mid_count + 1\n",
        "      starting_eleven.append(name)\n",
        "  for i in range(0, len(starters)):\n",
        "    posn = starters[i][10]\n",
        "    name = starters[i][2]\n",
        "    if(posn==\"RCM\" or posn==\"RDM\" or posn==\"CM\" or posn == \"CDM\"):\n",
        "      mid_count = mid_count + 1\n",
        "      starting_eleven.append(name)\n",
        "  for i in range(0, len(starters)):\n",
        "    posn = starters[i][10]\n",
        "    name = starters[i][2]\n",
        "    if(posn==\"LDM\" or posn==\"LCM\"):\n",
        "      mid_count = mid_count + 1\n",
        "      starting_eleven.append(name)\n",
        "  for i in range(0, len(starters)):\n",
        "    posn = starters[i][10]\n",
        "    name = starters[i][2]\n",
        "    if(posn==\"LM\"):\n",
        "      mid_count = mid_count + 1\n",
        "      starting_eleven.append(name)\n",
        "  for i in range(0, len(starters)):\n",
        "    posn = starters[i][10]\n",
        "    name = starters[i][2]\n",
        "    if(posn==\"CAM\"):\n",
        "      mid_count = mid_count + 1\n",
        "      starting_eleven.append(name)\n",
        "  for i in range(0, len(starters)):\n",
        "    posn = starters[i][10]\n",
        "    name = starters[i][2]\n",
        "    if(posn==\"RW\" or posn ==\"RF\" or posn==\"RS\"):\n",
        "      att_count = att_count + 1\n",
        "      starting_eleven.append(name)\n",
        "  for i in range(0, len(starters)):\n",
        "    posn = starters[i][10]\n",
        "    name = starters[i][2]\n",
        "    if(posn==\"CF\" or posn==\"ST\"):\n",
        "      att_count = att_count + 1\n",
        "      starting_eleven.append(name)\n",
        "  for i in range(0, len(starters)):\n",
        "    posn = starters[i][10]\n",
        "    name = starters[i][2]\n",
        "    if(posn==\"LW\" or posn==\"LF\" or posn==\"LS\"):\n",
        "      att_count = att_count + 1\n",
        "      starting_eleven.append(name)\n",
        "  if(def_count+mid_count+att_count == 10):\n",
        "     starting_eleven.append(\"FORMATION:\")\n",
        "     starting_eleven.append(def_count)\n",
        "     starting_eleven.append(mid_count)\n",
        "     starting_eleven.append(att_count)\n",
        "  return starting_eleven"
      ],
      "execution_count": 162,
      "outputs": []
    },
    {
      "cell_type": "code",
      "metadata": {
        "id": "B1BQYrLPyf5q",
        "colab_type": "code",
        "colab": {
          "base_uri": "https://localhost:8080/",
          "height": 269
        },
        "outputId": "6986f8dd-9c86-4325-bd06-892408c488ee"
      },
      "source": [
        "# SAMPLE CODE\n",
        "team = process_starters(\"Chelsea\", 2020)\n",
        "for i in range(0, len(team)):\n",
        "  print(team[i])"
      ],
      "execution_count": 163,
      "outputs": [
        {
          "output_type": "stream",
          "text": [
            "Kepa Arrizabalaga\n",
            "Cesar Azpilicueta Tanco\n",
            "Andreas Christensen\n",
            "Kurt Zouma\n",
            "Emerson Palmieri\n",
            "N'Golo Kante\n",
            "Jorginho\n",
            "Mason Mount\n",
            "Pedro Rodriguez\n",
            "Tammy Abraham\n",
            "Christian Pulisic\n",
            "FORMATION:\n",
            "4\n",
            "3\n",
            "3\n"
          ],
          "name": "stdout"
        }
      ]
    },
    {
      "cell_type": "markdown",
      "metadata": {
        "id": "Hmh54h5QrJiC",
        "colab_type": "text"
      },
      "source": [
        "(B) HEAD TO HEAD RECORD\n",
        "\n",
        "\n",
        "*   *h2h_record(team1, team2)*: Returns the descriptive head to head record for the teams (team1 and team2) since 2007\n",
        "*   *h2h_number(team1, team2)*: Returns the head to head record for the teams (team1 and team2) since 2007 as an array (HW, HD, HL, AW, AD, AL)\n",
        "\n"
      ]
    },
    {
      "cell_type": "code",
      "metadata": {
        "id": "iNG0Tr3irRt0",
        "colab_type": "code",
        "colab": {}
      },
      "source": [
        "import pandas as pd\n",
        "head_to_head = pd.read_csv('H2H PL.csv', sep = ',', encoding='latin1')\n",
        "record = head_to_head.values[0:, 0:6]"
      ],
      "execution_count": 164,
      "outputs": []
    },
    {
      "cell_type": "code",
      "metadata": {
        "id": "C18p7JUGrrvL",
        "colab_type": "code",
        "colab": {}
      },
      "source": [
        "def h2h_record(team1, team2):\n",
        "  h2h = []\n",
        "  for i in range(0, len(record)):\n",
        "    if((record[i][0]==team1 and record[i][1]==team2) or (record[i][0]==team2 and record[i][1]==team1)):\n",
        "      h2h.append(record[i])\n",
        "  return h2h"
      ],
      "execution_count": 165,
      "outputs": []
    },
    {
      "cell_type": "code",
      "metadata": {
        "id": "g2VBMw9fsqNl",
        "colab_type": "code",
        "colab": {}
      },
      "source": [
        "def h2h_number(team1, team2):\n",
        "  rec = h2h_record(team1, team2)\n",
        "  count = [0, 0, 0, 0, 0, 0]\n",
        "  for i in range(0, len(rec)):\n",
        "    if(rec[i][0]==team1):\n",
        "      if(rec[i][4]=='H'):\n",
        "        count[0] = count[0] + 1\n",
        "      if(rec[i][4]=='D'):\n",
        "        count[1] = count[1] + 1\n",
        "      if(rec[i][4]=='A'):\n",
        "        count[2] = count[2] + 1\n",
        "    if(rec[i][0]==team2):\n",
        "      if(rec[i][4]=='H'):\n",
        "        count[3] = count[3] + 1\n",
        "      if(rec[i][4]=='D'):\n",
        "        count[4] = count[4] + 1\n",
        "      if(rec[i][4]=='A'):\n",
        "        count[5] = count[5] + 1\n",
        "  return count"
      ],
      "execution_count": 166,
      "outputs": []
    },
    {
      "cell_type": "code",
      "metadata": {
        "id": "ih3cAgzMuoXZ",
        "colab_type": "code",
        "colab": {
          "base_uri": "https://localhost:8080/",
          "height": 134
        },
        "outputId": "ad3776b2-0d57-4e06-f379-78c5af395d2e"
      },
      "source": [
        "# SAMPLE CODE\n",
        "rec = h2h_record(\"Manchester United\", \"Queens Park Rangers\")\n",
        "num = h2h_number(\"Manchester United\", \"Queens Park Rangers\")\n",
        "for i in range(0, len(rec)):\n",
        "  print(rec[i])\n",
        "print(num)"
      ],
      "execution_count": 167,
      "outputs": [
        {
          "output_type": "stream",
          "text": [
            "['Queens Park Rangers' 'Manchester United' 0 2 'A' 2012]\n",
            "['Manchester United' 'Queens Park Rangers' 2 0 'H' 2012]\n",
            "['Manchester United' 'Queens Park Rangers' 3 1 'H' 2013]\n",
            "['Queens Park Rangers' 'Manchester United' 0 2 'A' 2013]\n",
            "['Manchester United' 'Queens Park Rangers' 4 0 'H' 2015]\n",
            "['Queens Park Rangers' 'Manchester United' 0 2 'A' 2015]\n",
            "[3, 0, 0, 0, 0, 3]\n"
          ],
          "name": "stdout"
        }
      ]
    },
    {
      "cell_type": "markdown",
      "metadata": {
        "id": "uINqDoKx_5q_",
        "colab_type": "text"
      },
      "source": [
        "(C) Crude Score Prediction\n",
        "\n",
        "\n",
        "*   *average_team_rating(team, year)*: Returns the average FIFA rating for the starting eleven of the team (team) for the season (year)\n",
        "*   *score_predictor_simple(home_team, away_team)*: Returns the expected score for a game between two teams (home_team, away_team) as an array (HS, AS)\n",
        "*   *simulate_season()*: For a separately imported schedule, predicts the scores of all the games in the schedule and returns a matrix of teams and scores\n",
        "*   *points_per_season(team, stats)*: Predicts the total points that a team (team) scores in a season that was simulated (stats)\n",
        "*   *team_stats(team)*: Displays how a team performed over an entire season, returns a matrix of the team, all its opponents and the corresponding results\n",
        "\n",
        "\n",
        "\n",
        "\n",
        "\n"
      ]
    },
    {
      "cell_type": "code",
      "metadata": {
        "id": "6oR4m41VNT47",
        "colab_type": "code",
        "colab": {}
      },
      "source": [
        "def average_team_rating(team, year):\n",
        "  squad = playing_eleven(team, year)\n",
        "  avg_rating = 0\n",
        "  for i in range(len(squad)):\n",
        "    avg_rating = avg_rating + squad[i][8]\n",
        "  return round(avg_rating/11)"
      ],
      "execution_count": 168,
      "outputs": []
    },
    {
      "cell_type": "code",
      "metadata": {
        "id": "gMLJettIEFwx",
        "colab_type": "code",
        "colab": {}
      },
      "source": [
        "import numpy as np\n",
        "import random\n",
        "def score_predictor_simple(home_team, away_team):\n",
        "  rec = h2h_record(home_team, away_team)\n",
        "  num = h2h_number(home_team, away_team)\n",
        "  year = 2020\n",
        "  xg_home1 = 0\n",
        "  xg_away1 = 0\n",
        "  xg_home2 = 0\n",
        "  xg_away2 = 0\n",
        "  x = [0, 0]\n",
        "  for i in range(len(rec)):\n",
        "    if(rec[i][0]==home_team):\n",
        "      xg_home1 = xg_home1 + rec[i][2]\n",
        "      xg_away1 = xg_away1 + rec[i][3]\n",
        "  xg_home1 = abs(int(round(2*xg_home1/(sum(num)+0.0001))))\n",
        "  xg_away1 = abs(int(round(2*xg_away1/(sum(num)+0.0001))))\n",
        "  x1 = [xg_home1, xg_away1]\n",
        "  r_home = average_team_rating(home_team, year)\n",
        "  r_away = average_team_rating(away_team, year)\n",
        "  xg_home2 = abs(int(np.floor(random.gauss((r_home - 60)/(2*(r_away - 60)), 2 - (r_away/r_home)))))\n",
        "  xg_away2 = abs(int(np.floor(random.gauss((r_away - 60)/(2*(r_home - 60)), 2 - (r_home/r_away)))))\n",
        "  x2 = [xg_home2, xg_away2]\n",
        "  x[0] = abs(int(np.floor(((len(rec)*xg_home1) + 2*(xg_home2))/(len(rec) + 2))))\n",
        "  x[1] = abs(int(np.floor(((len(rec)*xg_away1) + 2*(xg_away2))/(len(rec) + 2))))\n",
        "  if(r_home>83 and r_away<=81):\n",
        "    x[0] = x[0] + abs(int(np.floor((random.uniform(0, 3.1)))))\n",
        "  if(r_home<=81 and r_away>83):\n",
        "    x[1] = x[1] + abs(int(np.floor(random.uniform(0, 2.1))))\n",
        "  if(x[0]==x[1]):\n",
        "    if(random.uniform(0, 2)>0.5):\n",
        "      x[0] = x[1] = 0\n",
        "    if(random.uniform(0, 2)<1.5):\n",
        "      x[0] = x[1] = 1\n",
        "    if(random.uniform(0, 4)<1):\n",
        "      x[0] = x[1] = 2\n",
        "    if(random.uniform(0, 10)<1):\n",
        "      x[0] = x[1] = 3\n",
        "    if(random.uniform(0, 4)<1.5):\n",
        "      if(r_home>=r_away):\n",
        "        x[0] = int(random.uniform(1, 4))\n",
        "        x[1] = int(random.uniform(0, 3))\n",
        "      else:\n",
        "        x[1] = int(random.uniform(1, 4))\n",
        "        x[0] = int(random.uniform(0, 3))\n",
        "  return x"
      ],
      "execution_count": 169,
      "outputs": []
    },
    {
      "cell_type": "code",
      "metadata": {
        "id": "CleSI3PhKZhu",
        "colab_type": "code",
        "colab": {}
      },
      "source": [
        "# SAMPLE CODE\n",
        "print(average_team_rating(\"Arsenal\", 2020))"
      ],
      "execution_count": null,
      "outputs": []
    },
    {
      "cell_type": "code",
      "metadata": {
        "id": "ByjkN7rfIGLW",
        "colab_type": "code",
        "colab": {}
      },
      "source": [
        "# SAMPLE CODE\n",
        "home_team = \"Liverpool\"\n",
        "away_team = \"Chelsea\"\n",
        "#x = score_predictor_simple(home_team, away_team)\n",
        "x_home = 0\n",
        "x_away = 0\n",
        "epoch = 1000\n",
        "for i in range(0, epoch):\n",
        "  x = score_predictor_simple(home_team, away_team)\n",
        "  x_home = x_home + x[0]\n",
        "  x_away = x_away + x[1]\n",
        "print(home_team + \" \" + str(int(round(x_home/epoch)))+ \" \" + away_team + \" \" + str(int(round(x_away/epoch))))\n",
        "#print(home_team + \" \" + str(x[0]) + \" \" + away_team + \" \" + str(x[1]))"
      ],
      "execution_count": null,
      "outputs": []
    },
    {
      "cell_type": "code",
      "metadata": {
        "id": "Gsj3F61qqVZr",
        "colab_type": "code",
        "colab": {}
      },
      "source": [
        "import pandas as pd\n",
        "schedule = pd.read_csv('PL2020.csv', sep = ',', encoding='latin1')\n",
        "schedule = schedule.values[0:, 0:7]\n",
        "list_of_teams = pd.read_csv('list_of_teams_20.csv', sep = ',', encoding='latin1')\n",
        "list_of_teams = list_of_teams.values[0:]"
      ],
      "execution_count": 172,
      "outputs": []
    },
    {
      "cell_type": "code",
      "metadata": {
        "id": "qOoX1R1cquJC",
        "colab_type": "code",
        "colab": {}
      },
      "source": [
        "def simulate_season():\n",
        "  season_stats = []\n",
        "  game_result = [0, 0, 0, 0]\n",
        "  for i in range(0, 380):\n",
        "    home_team = schedule[i][1]\n",
        "    away_team = schedule[i][5]\n",
        "    score = score_predictor_simple(home_team, away_team)\n",
        "    game_result = [home_team, away_team, score[0], score[1]]\n",
        "    season_stats.append(game_result)\n",
        "  return season_stats"
      ],
      "execution_count": 173,
      "outputs": []
    },
    {
      "cell_type": "code",
      "metadata": {
        "id": "IK47tE3Gt8q0",
        "colab_type": "code",
        "colab": {}
      },
      "source": [
        "def points_per_season(team, stats):\n",
        "  points = 0\n",
        "  for i in range(len(stats)):\n",
        "    if(stats[i][0]==team):\n",
        "      if(stats[i][2]>stats[i][3]):\n",
        "        points = points + 3\n",
        "      if(stats[i][2]==stats[i][3]):\n",
        "        points = points + 1\n",
        "    if(stats[i][1]==team):\n",
        "        if(stats[i][2]<stats[i][3]):\n",
        "          points = points + 3\n",
        "        if(stats[i][2]==stats[i][3]):\n",
        "          points = points + 1\n",
        "  return points"
      ],
      "execution_count": 174,
      "outputs": []
    },
    {
      "cell_type": "code",
      "metadata": {
        "id": "SeoE-jiqv6B2",
        "colab_type": "code",
        "colab": {}
      },
      "source": [
        "# SAMPLE CODE\n",
        "table = []\n",
        "stats = simulate_season()\n",
        "for i in range(0, 20):\n",
        "  team = [0, 0]\n",
        "  team[0] = list_of_teams[i][0]\n",
        "  team[1] = points_per_season(team[0], stats)\n",
        "  table.append(team)\n",
        "def takeSecond(elem):\n",
        "    return elem[1]\n",
        "table.sort(reverse= True, key=takeSecond)\n",
        "for i in range(0, 20):\n",
        "  print(str(i+1) + \". \" + table[i][0] + \" \" + str(table[i][1]))"
      ],
      "execution_count": null,
      "outputs": []
    },
    {
      "cell_type": "code",
      "metadata": {
        "id": "c4rQaIPFbmzZ",
        "colab_type": "code",
        "colab": {}
      },
      "source": [
        "def team_stats(team):\n",
        "  stats = simulate_season()\n",
        "  team_record = []\n",
        "  for i in range(0, len(stats)):\n",
        "    if(stats[i][0]==team or stats[i][1]==team):\n",
        "      team_record.append(stats[i])\n",
        "  return team_record"
      ],
      "execution_count": 176,
      "outputs": []
    },
    {
      "cell_type": "code",
      "metadata": {
        "id": "KJvngfg9dCeM",
        "colab_type": "code",
        "colab": {}
      },
      "source": [
        "# SAMPLE CODE\n",
        "result = team_stats(\"Sheffield United\")\n",
        "for i in range(0, len(result)):\n",
        "  print(result[i])"
      ],
      "execution_count": null,
      "outputs": []
    },
    {
      "cell_type": "markdown",
      "metadata": {
        "id": "X6CkGGxnTmpn",
        "colab_type": "text"
      },
      "source": [
        "(D) Game Simulator\n",
        "\n",
        "*   *scoreprob(team, year)*: Assigns a goal-scoring probability vector to the starting eleven of a team (team) for a particular season (year)\n",
        "*   *getscorer(team, year, score)*: Given a particular score (score) in a game played by a team (team) in the season (year), returns a matrix of how those goals were distributed in the 90 minutes and which players scored the goals\n",
        "*   *simulator_display(home_team, away_team, score)*: Provides a visual interface for the simulation of a game played between two teams (home_team, away_team) with score (score). The two starting elevens are displayed following which the simulation begins. Expected time for completion: 30 seconds. Compatible for teams playing in the Premier League in 2020 only. See schedule.csv for further info."
      ]
    },
    {
      "cell_type": "code",
      "metadata": {
        "id": "-y2BJ-dqTryi",
        "colab_type": "code",
        "colab": {}
      },
      "source": [
        "def scoreprob(team, year):\n",
        "  ordered_team = process_starters(team, year)\n",
        "  def_count = ordered_team[12]\n",
        "  mid_count = ordered_team[13]\n",
        "  att_count = ordered_team[14]\n",
        "  score_prob = [0, 0, 0, 0, 0, 0, 0, 0, 0, 0, 0]\n",
        "  sum = 0\n",
        "  for i in range(1, def_count+1):\n",
        "    score_prob[i] = 1\n",
        "    sum = sum + 1\n",
        "  for i in range(def_count+1, def_count+mid_count+1):\n",
        "    score_prob[i] = 3\n",
        "    sum = sum + 3\n",
        "  for i in range(def_count + mid_count + 1, 11):\n",
        "    score_prob[i] = 5\n",
        "    sum = sum + 5\n",
        "  for i in range(0, 11):\n",
        "    score_prob[i] = score_prob[i]/sum\n",
        "  score_cum = [0, 0, 0, 0, 0, 0, 0, 0, 0, 0, 0]\n",
        "  for i in range(0, 11):\n",
        "    for j in range(0, i+1):\n",
        "      score_cum[i] = score_cum[i] + score_prob[j]\n",
        "  return score_cum"
      ],
      "execution_count": 177,
      "outputs": []
    },
    {
      "cell_type": "code",
      "metadata": {
        "id": "iodO9-kDgaBN",
        "colab_type": "code",
        "colab": {}
      },
      "source": [
        "def get_scorer(team, year, score):\n",
        "  squad = process_starters(team, year)\n",
        "  score_prob = scoreprob(team, year)\n",
        "  goal_vector = [0, 0, 0, 0] #goal no, scorer, time\n",
        "  goal_matrix = []\n",
        "  if(score == 0):\n",
        "    return goal_vector\n",
        "  for i in range(0, score):\n",
        "    goal_vector = [0, 0, 0, 0]\n",
        "    goal_vector[3] = team\n",
        "    goal_vector[0] = i+1\n",
        "    goal_vector[1] = squad[1]\n",
        "    num = random.uniform(score_prob[1], 1)\n",
        "    for j in range(0, 10):\n",
        "      if(num > score_prob[j] and num <= score_prob[j+1]):\n",
        "        goal_vector[1] = squad[j+1]\n",
        "    time = int(random.uniform(1, 90.1))\n",
        "    goal_vector[2] = time\n",
        "    goal_matrix.append(goal_vector)\n",
        "  def takeThird(elem):\n",
        "    return elem[2]\n",
        "  goal_matrix.sort(reverse= False, key=takeThird)\n",
        "  for i in range(len(goal_matrix)):\n",
        "    goal_matrix[i][0] = i+1\n",
        "  return goal_matrix"
      ],
      "execution_count": 178,
      "outputs": []
    },
    {
      "cell_type": "code",
      "metadata": {
        "id": "MhjLwmuNZ_83",
        "colab_type": "code",
        "colab": {}
      },
      "source": [
        "import time\n",
        "import numpy as np\n",
        "def simulator_display(home_team, away_team, year):\n",
        "  ordered_home_team = process_starters(home_team, year)\n",
        "  ordered_away_team = process_starters(away_team, year)\n",
        "  score_prob_home = scoreprob(home_team, year)\n",
        "  score_prob_away = scoreprob(away_team, year)\n",
        "  score = score_predictor_simple(home_team, away_team)\n",
        "  goal_data_home = get_scorer(home_team, year, score[0])\n",
        "  goal_data_away = get_scorer(away_team, year, score[1])\n",
        "  goal_data = []\n",
        "  print(\"Welcome to the Live Coverage of the game between \" + home_team + \" vs. \" + away_team)\n",
        "  print(\"The \" + home_team + \" lineup is as follows:\")\n",
        "  for i in range(0, 11):\n",
        "    print(ordered_home_team[i])\n",
        "  print(\"\\nThe \" + away_team + \" lineup is as follows:\")\n",
        "  for i in range(0, 11):\n",
        "    print(ordered_away_team[i])\n",
        "  time.sleep(4)\n",
        "  print(\"\\n KICK-OFF\")\n",
        "  if(goal_data_home== [0, 0, 0, 0] and goal_data_away== [0, 0, 0, 0]):\n",
        "    time.sleep(90/4)\n",
        "    print(\"\\n FINAL SCORE:\" + home_team + \" 0 \" + away_team + \" 0\")\n",
        "  else:\n",
        "    if(score[0]!=0):\n",
        "      for i in range(0, len(goal_data_home)):\n",
        "        goal_data.append(goal_data_home[i])\n",
        "    if(score[1]!=0):\n",
        "      for i in range(0, len(goal_data_away)):\n",
        "        goal_data.append(goal_data_away[i])\n",
        "    def takeThird(elem):\n",
        "      return elem[2]\n",
        "    #print(goal_data)\n",
        "    goal_data.sort(reverse= False, key=takeThird)\n",
        "    home_goals = 0\n",
        "    away_goals = 0\n",
        "    for i in range(0, len(goal_data)):\n",
        "      if(i != 0):\n",
        "        time.sleep((goal_data[i][2] - goal_data[i-1][2])/4)\n",
        "      else:\n",
        "        time.sleep(goal_data[i][2]/4)\n",
        "      if(goal_data[i][3] == home_team):\n",
        "        home_goals = home_goals + 1\n",
        "      if(goal_data[i][3] == away_team):\n",
        "        away_goals = away_goals + 1\n",
        "      print(str(goal_data[i][2]) + \"\\\" \" + home_team + \" \" + str(home_goals) + \" \" + away_team + \" \" + str(away_goals) + \" (\" + goal_data[i][1] + \")\\n\")\n",
        "      if(i == len(goal_data)-1):\n",
        "        time.sleep((90 - goal_data[i][2])/4)\n",
        "    print(\"\\n FINAL SCORE: \" + home_team + \" \" + str(home_goals) + \" \" + away_team + \" \" + str(away_goals))  \n",
        "  "
      ],
      "execution_count": 179,
      "outputs": []
    },
    {
      "cell_type": "code",
      "metadata": {
        "id": "69NZAmMVbUjb",
        "colab_type": "code",
        "colab": {}
      },
      "source": [
        "# SAMPLE CODE\n",
        "simulator_display(\"Tottenham Hotspur\", \"Sheffield United\", 2020)"
      ],
      "execution_count": null,
      "outputs": []
    },
    {
      "cell_type": "code",
      "metadata": {
        "id": "3n9QJNP4JULz",
        "colab_type": "code",
        "colab": {}
      },
      "source": [
        "# SAMPLE CODE\n",
        "team = \"Manchester City\"\n",
        "year = 2015\n",
        "roster = extract_roster(team, year)\n",
        "for i in range(0, len(roster)):\n",
        "  print(roster[i][1])"
      ],
      "execution_count": null,
      "outputs": []
    },
    {
      "cell_type": "code",
      "metadata": {
        "id": "mV-Ve2rzNFBc",
        "colab_type": "code",
        "colab": {}
      },
      "source": [
        "# SAMPLE CODE\n",
        "print(h2h_record(\"Chelsea\", \"Portsmouth\"))"
      ],
      "execution_count": null,
      "outputs": []
    },
    {
      "cell_type": "code",
      "metadata": {
        "id": "84uUoKu1ooPU",
        "colab_type": "code",
        "colab": {}
      },
      "source": [
        "h2hdata = pd.DataFrame(record)\n",
        "h2hdata['home_rating'] = np.random.randn(len(h2hdata))\n",
        "h2hdata['away_rating'] = np.random.randn(len(h2hdata))\n",
        "h2hdata = h2hdata.rename(columns = {0:\"home_team\", 1:\"away_team\", 2:\"home_score\", 3:\"away_score\", 4:\"result\", 5:\"year\"})"
      ],
      "execution_count": 180,
      "outputs": []
    },
    {
      "cell_type": "markdown",
      "metadata": {
        "id": "802DvPRwIbwz",
        "colab_type": "text"
      },
      "source": [
        "(E) Neural Network for Result Prediction\n",
        "\n",
        "* The first block is used to extrapolate ratings. We have ratings from 2014 to 2019 while head-to-head results are from 2007 to 2019. To cover up for this, teams are either assigned their maximum available rating or a default rating of 72 if the former is unavailable. For some reason, if this produces a nonsensical result in the first go, comment out the if statements, run the block, then uncomment them and run it again. This should produce a sensible result.\n",
        "* The fifth block prepares the input layer for learning - it normalizes the ratings and year and assigns a unique number to each team - in order to make the data interpretable to the neural network.\n",
        "* The sixth block splits the dataset into training and test data\n",
        "* The seventh and eighth blocks encode the results (H, A, D) into numerical codes, again for interpretability\n",
        "* Block 9 contains the neural network architecture\n",
        "* *predictor(home, away)*: Returns the predictions for a game between *home* and *away* teams\n",
        "* *display_preds(home, away)*: Displays home win, away win and draw probabilities in user-friendly format\n",
        "* Finally, the model is tested on the fixtures of the 2019-20 season and a CSV output is produced"
      ]
    },
    {
      "cell_type": "code",
      "metadata": {
        "id": "CbJGL0pMt3qi",
        "colab_type": "code",
        "colab": {}
      },
      "source": [
        "# BLOCK E1\n",
        "for i in range(0, len(h2hdata)):\n",
        "  h2hdata['home_rating'][i] = average_team_rating(h2hdata['home_team'][i], h2hdata['year'][i])\n",
        "  h2hdata['away_rating'][i] = average_team_rating(h2hdata['away_team'][i], h2hdata['year'][i])"
      ],
      "execution_count": null,
      "outputs": []
    },
    {
      "cell_type": "code",
      "metadata": {
        "id": "hUqQmHTpve5h",
        "colab_type": "code",
        "colab": {}
      },
      "source": [
        "# BLOCK E2\n",
        "for i in range(0, len(h2hdata)):\n",
        "  if(h2hdata['home_rating'][i] == 0):\n",
        "    h2hdata['home_rating'][i] = max(h2hdata['home_rating'][h2hdata['home_team'] == h2hdata['home_team'][i]])\n",
        "  if(h2hdata['away_rating'][i] == 0):\n",
        "    h2hdata['away_rating'][i] = max(h2hdata['away_rating'][h2hdata['away_team'] == h2hdata['away_team'][i]])\n",
        "  if(h2hdata['home_rating'][i] == 0):\n",
        "    h2hdata['home_rating'][i] = 72\n",
        "  if(h2hdata['away_rating'][i] == 0):\n",
        "    h2hdata['away_rating'][i] = 72"
      ],
      "execution_count": null,
      "outputs": []
    },
    {
      "cell_type": "code",
      "metadata": {
        "id": "6R3TrtHEyVIo",
        "colab_type": "code",
        "colab": {
          "base_uri": "https://localhost:8080/",
          "height": 402
        },
        "outputId": "64fde994-df8d-42d8-8c1e-d61f9b31c610"
      },
      "source": [
        "# BLOCK E3\n",
        "# SAMPLE CODE\n",
        "h2hdata"
      ],
      "execution_count": 183,
      "outputs": [
        {
          "output_type": "execute_result",
          "data": {
            "text/html": [
              "<div>\n",
              "<style scoped>\n",
              "    .dataframe tbody tr th:only-of-type {\n",
              "        vertical-align: middle;\n",
              "    }\n",
              "\n",
              "    .dataframe tbody tr th {\n",
              "        vertical-align: top;\n",
              "    }\n",
              "\n",
              "    .dataframe thead th {\n",
              "        text-align: right;\n",
              "    }\n",
              "</style>\n",
              "<table border=\"1\" class=\"dataframe\">\n",
              "  <thead>\n",
              "    <tr style=\"text-align: right;\">\n",
              "      <th></th>\n",
              "      <th>home_team</th>\n",
              "      <th>away_team</th>\n",
              "      <th>home_score</th>\n",
              "      <th>away_score</th>\n",
              "      <th>result</th>\n",
              "      <th>year</th>\n",
              "      <th>home_rating</th>\n",
              "      <th>away_rating</th>\n",
              "    </tr>\n",
              "  </thead>\n",
              "  <tbody>\n",
              "    <tr>\n",
              "      <th>0</th>\n",
              "      <td>Sheffield United</td>\n",
              "      <td>Liverpool</td>\n",
              "      <td>1</td>\n",
              "      <td>1</td>\n",
              "      <td>D</td>\n",
              "      <td>2007</td>\n",
              "      <td>72.0</td>\n",
              "      <td>84.0</td>\n",
              "    </tr>\n",
              "    <tr>\n",
              "      <th>1</th>\n",
              "      <td>Arsenal</td>\n",
              "      <td>Aston Villa</td>\n",
              "      <td>1</td>\n",
              "      <td>1</td>\n",
              "      <td>D</td>\n",
              "      <td>2007</td>\n",
              "      <td>85.0</td>\n",
              "      <td>76.0</td>\n",
              "    </tr>\n",
              "    <tr>\n",
              "      <th>2</th>\n",
              "      <td>Everton</td>\n",
              "      <td>Watford</td>\n",
              "      <td>2</td>\n",
              "      <td>1</td>\n",
              "      <td>H</td>\n",
              "      <td>2007</td>\n",
              "      <td>81.0</td>\n",
              "      <td>78.0</td>\n",
              "    </tr>\n",
              "    <tr>\n",
              "      <th>3</th>\n",
              "      <td>Newcastle United</td>\n",
              "      <td>Wigan Athletic</td>\n",
              "      <td>2</td>\n",
              "      <td>1</td>\n",
              "      <td>H</td>\n",
              "      <td>2007</td>\n",
              "      <td>78.0</td>\n",
              "      <td>72.0</td>\n",
              "    </tr>\n",
              "    <tr>\n",
              "      <th>4</th>\n",
              "      <td>Portsmouth</td>\n",
              "      <td>Blackburn Rovers</td>\n",
              "      <td>3</td>\n",
              "      <td>0</td>\n",
              "      <td>H</td>\n",
              "      <td>2007</td>\n",
              "      <td>72.0</td>\n",
              "      <td>72.0</td>\n",
              "    </tr>\n",
              "    <tr>\n",
              "      <th>...</th>\n",
              "      <td>...</td>\n",
              "      <td>...</td>\n",
              "      <td>...</td>\n",
              "      <td>...</td>\n",
              "      <td>...</td>\n",
              "      <td>...</td>\n",
              "      <td>...</td>\n",
              "      <td>...</td>\n",
              "    </tr>\n",
              "    <tr>\n",
              "      <th>4934</th>\n",
              "      <td>Leicester City</td>\n",
              "      <td>Chelsea</td>\n",
              "      <td>0</td>\n",
              "      <td>0</td>\n",
              "      <td>D</td>\n",
              "      <td>2019</td>\n",
              "      <td>80.0</td>\n",
              "      <td>85.0</td>\n",
              "    </tr>\n",
              "    <tr>\n",
              "      <th>4935</th>\n",
              "      <td>Liverpool</td>\n",
              "      <td>Wolverhampton Wanderers</td>\n",
              "      <td>2</td>\n",
              "      <td>0</td>\n",
              "      <td>H</td>\n",
              "      <td>2019</td>\n",
              "      <td>84.0</td>\n",
              "      <td>78.0</td>\n",
              "    </tr>\n",
              "    <tr>\n",
              "      <th>4936</th>\n",
              "      <td>Manchester United</td>\n",
              "      <td>Cardiff City</td>\n",
              "      <td>0</td>\n",
              "      <td>2</td>\n",
              "      <td>A</td>\n",
              "      <td>2019</td>\n",
              "      <td>85.0</td>\n",
              "      <td>74.0</td>\n",
              "    </tr>\n",
              "    <tr>\n",
              "      <th>4937</th>\n",
              "      <td>Southampton</td>\n",
              "      <td>Huddersfield Town</td>\n",
              "      <td>1</td>\n",
              "      <td>1</td>\n",
              "      <td>D</td>\n",
              "      <td>2019</td>\n",
              "      <td>78.0</td>\n",
              "      <td>77.0</td>\n",
              "    </tr>\n",
              "    <tr>\n",
              "      <th>4938</th>\n",
              "      <td>Tottenham Hotspur</td>\n",
              "      <td>Everton</td>\n",
              "      <td>2</td>\n",
              "      <td>2</td>\n",
              "      <td>D</td>\n",
              "      <td>2019</td>\n",
              "      <td>85.0</td>\n",
              "      <td>80.0</td>\n",
              "    </tr>\n",
              "  </tbody>\n",
              "</table>\n",
              "<p>4939 rows × 8 columns</p>\n",
              "</div>"
            ],
            "text/plain": [
              "              home_team                away_team  ... home_rating away_rating\n",
              "0      Sheffield United                Liverpool  ...        72.0        84.0\n",
              "1               Arsenal              Aston Villa  ...        85.0        76.0\n",
              "2               Everton                  Watford  ...        81.0        78.0\n",
              "3      Newcastle United           Wigan Athletic  ...        78.0        72.0\n",
              "4            Portsmouth         Blackburn Rovers  ...        72.0        72.0\n",
              "...                 ...                      ...  ...         ...         ...\n",
              "4934     Leicester City                  Chelsea  ...        80.0        85.0\n",
              "4935          Liverpool  Wolverhampton Wanderers  ...        84.0        78.0\n",
              "4936  Manchester United             Cardiff City  ...        85.0        74.0\n",
              "4937        Southampton        Huddersfield Town  ...        78.0        77.0\n",
              "4938  Tottenham Hotspur                  Everton  ...        85.0        80.0\n",
              "\n",
              "[4939 rows x 8 columns]"
            ]
          },
          "metadata": {
            "tags": []
          },
          "execution_count": 183
        }
      ]
    },
    {
      "cell_type": "code",
      "metadata": {
        "id": "Pw0VCDOSagE-",
        "colab_type": "code",
        "colab": {
          "base_uri": "https://localhost:8080/",
          "height": 34
        },
        "outputId": "a7c92c65-b691-4c1a-ca97-7fba6240a347"
      },
      "source": [
        "# BLOCK E4\n",
        "import tensorflow as tf\n",
        "from tensorflow import keras\n",
        "from keras.models import Sequential \n",
        "from keras.layers import Dense \n",
        "from keras.utils import np_utils\n",
        "from sklearn.preprocessing import LabelEncoder\n",
        "from keras.utils.np_utils import to_categorical\n",
        "from sklearn.utils import shuffle\n",
        "from tensorflow.keras.optimizers import RMSprop\n",
        "from keras.layers import Dropout"
      ],
      "execution_count": 184,
      "outputs": [
        {
          "output_type": "stream",
          "text": [
            "Using TensorFlow backend.\n"
          ],
          "name": "stderr"
        }
      ]
    },
    {
      "cell_type": "code",
      "metadata": {
        "id": "JzLo5_8qEaJr",
        "colab_type": "code",
        "colab": {}
      },
      "source": [
        "# BLOCK E5\n",
        "input_layer = {'home_team':h2hdata['home_team'], 'away_team':h2hdata['away_team'], \n",
        "                   'home_rating':h2hdata['home_rating'], 'away_rating':h2hdata['away_rating'],\n",
        "                   'year':h2hdata['year'], 'result': h2hdata['result'], 'home_score':h2hdata['home_score'],\n",
        "               'away_score':h2hdata['away_score']}\n",
        "input_layer = pd.DataFrame(input_layer)\n",
        "for i in range(0, len(input_layer)):\n",
        "  input_layer['home_rating'][i] = (input_layer['home_rating'][i] - 70.0)/(87.0 - 70.0)\n",
        "  input_layer['away_rating'][i] = (input_layer['away_rating'][i] - 70.0)/(87.0 - 70.0)\n",
        "  input_layer['year'][i] = (input_layer['year'][i] - 2006)/(2020-2006)\n",
        "input_layer['home_team'] = pd.Categorical(input_layer['home_team'])\n",
        "input_layer['home_team'] = input_layer.home_team.cat.codes\n",
        "input_layer['away_team'] = pd.Categorical(input_layer['away_team'])\n",
        "input_layer['away_team'] = input_layer.away_team.cat.codes\n",
        "input_layer['result'] = pd.Categorical(input_layer['result'])\n",
        "input_layer['result'] = input_layer.result.cat.codes\n",
        "input_layer"
      ],
      "execution_count": null,
      "outputs": []
    },
    {
      "cell_type": "code",
      "metadata": {
        "id": "BSZTkoxCGelM",
        "colab_type": "code",
        "colab": {}
      },
      "source": [
        "# BLOCK E6\n",
        "from sklearn.model_selection import train_test_split\n",
        "train, test = train_test_split(input_layer, test_size = 0.05)\n",
        "train1 = train.drop(['home_score', 'away_score'], axis = 1)\n",
        "test1 = test.drop(['home_score', 'away_score'], axis = 1)\n",
        "train1_y = train1['result']\n",
        "train1_x = train1.drop(['result'], axis = 1)\n",
        "test1_y = test1['result']\n",
        "test1_x = test1.drop(['result'], axis = 1)"
      ],
      "execution_count": 186,
      "outputs": []
    },
    {
      "cell_type": "code",
      "metadata": {
        "id": "9TcnSElaX3Cp",
        "colab_type": "code",
        "colab": {}
      },
      "source": [
        "# BLOCK E7\n",
        "train1_y = pd.DataFrame(train1_y)\n",
        "encoder = LabelEncoder()\n",
        "encoder.fit(train1_y)\n",
        "train1_y = encoder.transform(train1_y)\n",
        "train1_y = np_utils.to_categorical(train1_y)"
      ],
      "execution_count": null,
      "outputs": []
    },
    {
      "cell_type": "code",
      "metadata": {
        "id": "7p1pfzSmb7-e",
        "colab_type": "code",
        "colab": {}
      },
      "source": [
        "# BLOCK E8\n",
        "test1_y = pd.DataFrame(test1_y)\n",
        "encoder = LabelEncoder()\n",
        "encoder.fit(test1_y)\n",
        "test1_y = encoder.transform(test1_y)\n",
        "test1_y = np_utils.to_categorical(test1_y)"
      ],
      "execution_count": null,
      "outputs": []
    },
    {
      "cell_type": "code",
      "metadata": {
        "id": "Wmtb7sI6Niub",
        "colab_type": "code",
        "colab": {
          "base_uri": "https://localhost:8080/",
          "height": 1000
        },
        "outputId": "37bd0945-e821-4cd2-d395-c6f6aacf0016"
      },
      "source": [
        "# BLOCK E9\n",
        "model = Sequential()\n",
        "model.add(Dense(1024, input_dim = len(train1_x.columns), activation = 'relu'))\n",
        "model.add(Dense(512, activation = 'relu'))\n",
        "model.add(Dense(256, activation = 'relu'))\n",
        "model.add(Dense(128, activation = 'relu'))\n",
        "model.add(Dense(64, activation = 'relu'))\n",
        "model.add(Dense(32, activation = 'relu'))\n",
        "model.add(Dense(16, activation = 'relu'))\n",
        "model.add(Dense(3, activation = 'softmax'))\n",
        "model.compile(loss = 'binary_crossentropy', optimizer = 'adagrad', metrics = ['accuracy'])\n",
        "history = model.fit(train1_x, train1_y, epochs = 30)\n",
        "history"
      ],
      "execution_count": 190,
      "outputs": [
        {
          "output_type": "stream",
          "text": [
            "Epoch 1/30\n",
            "4692/4692 [==============================] - 3s 550us/step - loss: 0.7228 - accuracy: 0.6656\n",
            "Epoch 2/30\n",
            "4692/4692 [==============================] - 1s 183us/step - loss: 0.6172 - accuracy: 0.6701\n",
            "Epoch 3/30\n",
            "4692/4692 [==============================] - 1s 183us/step - loss: 0.6148 - accuracy: 0.6709\n",
            "Epoch 4/30\n",
            "4692/4692 [==============================] - 1s 183us/step - loss: 0.6119 - accuracy: 0.6768\n",
            "Epoch 5/30\n",
            "4692/4692 [==============================] - 1s 185us/step - loss: 0.6072 - accuracy: 0.6827\n",
            "Epoch 6/30\n",
            "4692/4692 [==============================] - 1s 184us/step - loss: 0.5977 - accuracy: 0.6900\n",
            "Epoch 7/30\n",
            "4692/4692 [==============================] - 1s 181us/step - loss: 0.5888 - accuracy: 0.6972\n",
            "Epoch 8/30\n",
            "4692/4692 [==============================] - 1s 182us/step - loss: 0.5852 - accuracy: 0.7008\n",
            "Epoch 9/30\n",
            "4692/4692 [==============================] - 1s 181us/step - loss: 0.5823 - accuracy: 0.7048\n",
            "Epoch 10/30\n",
            "4692/4692 [==============================] - 1s 185us/step - loss: 0.5811 - accuracy: 0.7037\n",
            "Epoch 11/30\n",
            "4692/4692 [==============================] - 1s 182us/step - loss: 0.5776 - accuracy: 0.7063\n",
            "Epoch 12/30\n",
            "4692/4692 [==============================] - 1s 186us/step - loss: 0.5770 - accuracy: 0.7074\n",
            "Epoch 13/30\n",
            "4692/4692 [==============================] - 1s 182us/step - loss: 0.5767 - accuracy: 0.7088\n",
            "Epoch 14/30\n",
            "4692/4692 [==============================] - 1s 183us/step - loss: 0.5756 - accuracy: 0.7091\n",
            "Epoch 15/30\n",
            "4692/4692 [==============================] - 1s 178us/step - loss: 0.5753 - accuracy: 0.7097\n",
            "Epoch 16/30\n",
            "4692/4692 [==============================] - 1s 181us/step - loss: 0.5750 - accuracy: 0.7093\n",
            "Epoch 17/30\n",
            "4692/4692 [==============================] - 1s 182us/step - loss: 0.5742 - accuracy: 0.7096\n",
            "Epoch 18/30\n",
            "4692/4692 [==============================] - 1s 181us/step - loss: 0.5738 - accuracy: 0.7099\n",
            "Epoch 19/30\n",
            "4692/4692 [==============================] - 1s 182us/step - loss: 0.5734 - accuracy: 0.7096\n",
            "Epoch 20/30\n",
            "4692/4692 [==============================] - 1s 184us/step - loss: 0.5733 - accuracy: 0.7077\n",
            "Epoch 21/30\n",
            "4692/4692 [==============================] - 1s 178us/step - loss: 0.5725 - accuracy: 0.7104\n",
            "Epoch 22/30\n",
            "4692/4692 [==============================] - 1s 182us/step - loss: 0.5720 - accuracy: 0.7102\n",
            "Epoch 23/30\n",
            "4692/4692 [==============================] - 1s 181us/step - loss: 0.5712 - accuracy: 0.7131\n",
            "Epoch 24/30\n",
            "4692/4692 [==============================] - 1s 179us/step - loss: 0.5716 - accuracy: 0.7089\n",
            "Epoch 25/30\n",
            "4692/4692 [==============================] - 1s 181us/step - loss: 0.5714 - accuracy: 0.7097\n",
            "Epoch 26/30\n",
            "4692/4692 [==============================] - 1s 180us/step - loss: 0.5707 - accuracy: 0.7116\n",
            "Epoch 27/30\n",
            "4692/4692 [==============================] - 1s 176us/step - loss: 0.5715 - accuracy: 0.7101\n",
            "Epoch 28/30\n",
            "4692/4692 [==============================] - 1s 182us/step - loss: 0.5703 - accuracy: 0.7124\n",
            "Epoch 29/30\n",
            "4692/4692 [==============================] - 1s 181us/step - loss: 0.5701 - accuracy: 0.7123\n",
            "Epoch 30/30\n",
            "4692/4692 [==============================] - 1s 184us/step - loss: 0.5693 - accuracy: 0.7106\n"
          ],
          "name": "stdout"
        },
        {
          "output_type": "execute_result",
          "data": {
            "text/plain": [
              "<keras.callbacks.callbacks.History at 0x7fa1477d1668>"
            ]
          },
          "metadata": {
            "tags": []
          },
          "execution_count": 190
        }
      ]
    },
    {
      "cell_type": "code",
      "metadata": {
        "id": "ndYY1VLOb_v1",
        "colab_type": "code",
        "colab": {
          "base_uri": "https://localhost:8080/",
          "height": 295
        },
        "outputId": "703d5851-48b8-4142-a121-3e885970ce68"
      },
      "source": [
        "import matplotlib.pyplot as plt\n",
        "plt.plot(history.history['accuracy'])\n",
        "plt.title('model accuracy')\n",
        "plt.ylabel('accuracy')\n",
        "plt.xlabel('epoch')\n",
        "plt.legend(['train'], loc='upper left')\n",
        "plt.show()"
      ],
      "execution_count": 191,
      "outputs": [
        {
          "output_type": "display_data",
          "data": {
            "image/png": "[encoded data removed]",
            "text/plain": [
              "<Figure size 432x288 with 1 Axes>"
            ]
          },
          "metadata": {
            "tags": [],
            "needs_background": "light"
          }
        }
      ]
    },
    {
      "cell_type": "code",
      "metadata": {
        "id": "cMOayHjLbgGd",
        "colab_type": "code",
        "colab": {
          "base_uri": "https://localhost:8080/",
          "height": 418
        },
        "outputId": "0514115b-08f0-466b-f722-ba4c60e46543"
      },
      "source": [
        "# BLOCK E10\n",
        "model.evaluate(test1_x, test1_y)\n",
        "pred_data = pd.DataFrame(model.predict(test1_x)*100)\n",
        "pred_data = pred_data.rename(columns = {0:\"AWAY WIN\", 1: \"DRAW\", 2: \"HOME WIN\"})\n",
        "pred_data"
      ],
      "execution_count": 192,
      "outputs": [
        {
          "output_type": "stream",
          "text": [
            "247/247 [==============================] - 0s 253us/step\n"
          ],
          "name": "stdout"
        },
        {
          "output_type": "execute_result",
          "data": {
            "text/html": [
              "<div>\n",
              "<style scoped>\n",
              "    .dataframe tbody tr th:only-of-type {\n",
              "        vertical-align: middle;\n",
              "    }\n",
              "\n",
              "    .dataframe tbody tr th {\n",
              "        vertical-align: top;\n",
              "    }\n",
              "\n",
              "    .dataframe thead th {\n",
              "        text-align: right;\n",
              "    }\n",
              "</style>\n",
              "<table border=\"1\" class=\"dataframe\">\n",
              "  <thead>\n",
              "    <tr style=\"text-align: right;\">\n",
              "      <th></th>\n",
              "      <th>AWAY WIN</th>\n",
              "      <th>DRAW</th>\n",
              "      <th>HOME WIN</th>\n",
              "    </tr>\n",
              "  </thead>\n",
              "  <tbody>\n",
              "    <tr>\n",
              "      <th>0</th>\n",
              "      <td>42.788383</td>\n",
              "      <td>37.989777</td>\n",
              "      <td>19.221836</td>\n",
              "    </tr>\n",
              "    <tr>\n",
              "      <th>1</th>\n",
              "      <td>11.269382</td>\n",
              "      <td>20.405014</td>\n",
              "      <td>68.325607</td>\n",
              "    </tr>\n",
              "    <tr>\n",
              "      <th>2</th>\n",
              "      <td>22.875134</td>\n",
              "      <td>26.849354</td>\n",
              "      <td>50.275517</td>\n",
              "    </tr>\n",
              "    <tr>\n",
              "      <th>3</th>\n",
              "      <td>34.479256</td>\n",
              "      <td>28.926266</td>\n",
              "      <td>36.594479</td>\n",
              "    </tr>\n",
              "    <tr>\n",
              "      <th>4</th>\n",
              "      <td>28.158232</td>\n",
              "      <td>29.613642</td>\n",
              "      <td>42.228127</td>\n",
              "    </tr>\n",
              "    <tr>\n",
              "      <th>...</th>\n",
              "      <td>...</td>\n",
              "      <td>...</td>\n",
              "      <td>...</td>\n",
              "    </tr>\n",
              "    <tr>\n",
              "      <th>242</th>\n",
              "      <td>12.710995</td>\n",
              "      <td>20.726093</td>\n",
              "      <td>66.562912</td>\n",
              "    </tr>\n",
              "    <tr>\n",
              "      <th>243</th>\n",
              "      <td>11.677021</td>\n",
              "      <td>20.029404</td>\n",
              "      <td>68.293579</td>\n",
              "    </tr>\n",
              "    <tr>\n",
              "      <th>244</th>\n",
              "      <td>29.882395</td>\n",
              "      <td>31.691900</td>\n",
              "      <td>38.425697</td>\n",
              "    </tr>\n",
              "    <tr>\n",
              "      <th>245</th>\n",
              "      <td>16.808992</td>\n",
              "      <td>24.079588</td>\n",
              "      <td>59.111423</td>\n",
              "    </tr>\n",
              "    <tr>\n",
              "      <th>246</th>\n",
              "      <td>7.140895</td>\n",
              "      <td>16.005917</td>\n",
              "      <td>76.853188</td>\n",
              "    </tr>\n",
              "  </tbody>\n",
              "</table>\n",
              "<p>247 rows × 3 columns</p>\n",
              "</div>"
            ],
            "text/plain": [
              "      AWAY WIN       DRAW   HOME WIN\n",
              "0    42.788383  37.989777  19.221836\n",
              "1    11.269382  20.405014  68.325607\n",
              "2    22.875134  26.849354  50.275517\n",
              "3    34.479256  28.926266  36.594479\n",
              "4    28.158232  29.613642  42.228127\n",
              "..         ...        ...        ...\n",
              "242  12.710995  20.726093  66.562912\n",
              "243  11.677021  20.029404  68.293579\n",
              "244  29.882395  31.691900  38.425697\n",
              "245  16.808992  24.079588  59.111423\n",
              "246   7.140895  16.005917  76.853188\n",
              "\n",
              "[247 rows x 3 columns]"
            ]
          },
          "metadata": {
            "tags": []
          },
          "execution_count": 192
        }
      ]
    },
    {
      "cell_type": "code",
      "metadata": {
        "id": "mIcsdnxbgjyH",
        "colab_type": "code",
        "colab": {
          "base_uri": "https://localhost:8080/",
          "height": 402
        },
        "outputId": "b57ac8be-2e63-4ae8-a88b-abd382bbb47a"
      },
      "source": [
        "# BLOCK E11\n",
        "# SAMPLE CODE\n",
        "test1_x"
      ],
      "execution_count": 193,
      "outputs": [
        {
          "output_type": "execute_result",
          "data": {
            "text/html": [
              "<div>\n",
              "<style scoped>\n",
              "    .dataframe tbody tr th:only-of-type {\n",
              "        vertical-align: middle;\n",
              "    }\n",
              "\n",
              "    .dataframe tbody tr th {\n",
              "        vertical-align: top;\n",
              "    }\n",
              "\n",
              "    .dataframe thead th {\n",
              "        text-align: right;\n",
              "    }\n",
              "</style>\n",
              "<table border=\"1\" class=\"dataframe\">\n",
              "  <thead>\n",
              "    <tr style=\"text-align: right;\">\n",
              "      <th></th>\n",
              "      <th>home_team</th>\n",
              "      <th>away_team</th>\n",
              "      <th>home_rating</th>\n",
              "      <th>away_rating</th>\n",
              "      <th>year</th>\n",
              "    </tr>\n",
              "  </thead>\n",
              "  <tbody>\n",
              "    <tr>\n",
              "      <th>690</th>\n",
              "      <td>2</td>\n",
              "      <td>20</td>\n",
              "      <td>0.117647</td>\n",
              "      <td>1.000000</td>\n",
              "      <td>0.142857</td>\n",
              "    </tr>\n",
              "    <tr>\n",
              "      <th>564</th>\n",
              "      <td>14</td>\n",
              "      <td>5</td>\n",
              "      <td>0.647059</td>\n",
              "      <td>0.117647</td>\n",
              "      <td>0.142857</td>\n",
              "    </tr>\n",
              "    <tr>\n",
              "      <th>163</th>\n",
              "      <td>34</td>\n",
              "      <td>27</td>\n",
              "      <td>0.470588</td>\n",
              "      <td>0.117647</td>\n",
              "      <td>0.0714286</td>\n",
              "    </tr>\n",
              "    <tr>\n",
              "      <th>763</th>\n",
              "      <td>17</td>\n",
              "      <td>15</td>\n",
              "      <td>0.294118</td>\n",
              "      <td>0.470588</td>\n",
              "      <td>0.214286</td>\n",
              "    </tr>\n",
              "    <tr>\n",
              "      <th>3833</th>\n",
              "      <td>8</td>\n",
              "      <td>17</td>\n",
              "      <td>0.235294</td>\n",
              "      <td>0.294118</td>\n",
              "      <td>0.785714</td>\n",
              "    </tr>\n",
              "    <tr>\n",
              "      <th>...</th>\n",
              "      <td>...</td>\n",
              "      <td>...</td>\n",
              "      <td>...</td>\n",
              "      <td>...</td>\n",
              "      <td>...</td>\n",
              "    </tr>\n",
              "    <tr>\n",
              "      <th>2656</th>\n",
              "      <td>33</td>\n",
              "      <td>31</td>\n",
              "      <td>0.882353</td>\n",
              "      <td>0.470588</td>\n",
              "      <td>0.5</td>\n",
              "    </tr>\n",
              "    <tr>\n",
              "      <th>4678</th>\n",
              "      <td>19</td>\n",
              "      <td>15</td>\n",
              "      <td>0.823529</td>\n",
              "      <td>0.470588</td>\n",
              "      <td>0.928571</td>\n",
              "    </tr>\n",
              "    <tr>\n",
              "      <th>659</th>\n",
              "      <td>3</td>\n",
              "      <td>15</td>\n",
              "      <td>0.117647</td>\n",
              "      <td>0.470588</td>\n",
              "      <td>0.142857</td>\n",
              "    </tr>\n",
              "    <tr>\n",
              "      <th>531</th>\n",
              "      <td>14</td>\n",
              "      <td>15</td>\n",
              "      <td>0.647059</td>\n",
              "      <td>0.470588</td>\n",
              "      <td>0.142857</td>\n",
              "    </tr>\n",
              "    <tr>\n",
              "      <th>1473</th>\n",
              "      <td>11</td>\n",
              "      <td>5</td>\n",
              "      <td>0.882353</td>\n",
              "      <td>0.117647</td>\n",
              "      <td>0.285714</td>\n",
              "    </tr>\n",
              "  </tbody>\n",
              "</table>\n",
              "<p>247 rows × 5 columns</p>\n",
              "</div>"
            ],
            "text/plain": [
              "      home_team  away_team  home_rating  away_rating       year\n",
              "690           2         20     0.117647     1.000000   0.142857\n",
              "564          14          5     0.647059     0.117647   0.142857\n",
              "163          34         27     0.470588     0.117647  0.0714286\n",
              "763          17         15     0.294118     0.470588   0.214286\n",
              "3833          8         17     0.235294     0.294118   0.785714\n",
              "...         ...        ...          ...          ...        ...\n",
              "2656         33         31     0.882353     0.470588        0.5\n",
              "4678         19         15     0.823529     0.470588   0.928571\n",
              "659           3         15     0.117647     0.470588   0.142857\n",
              "531          14         15     0.647059     0.470588   0.142857\n",
              "1473         11          5     0.882353     0.117647   0.285714\n",
              "\n",
              "[247 rows x 5 columns]"
            ]
          },
          "metadata": {
            "tags": []
          },
          "execution_count": 193
        }
      ]
    },
    {
      "cell_type": "code",
      "metadata": {
        "id": "TET1iX3BiFul",
        "colab_type": "code",
        "colab": {
          "base_uri": "https://localhost:8080/",
          "height": 654
        },
        "outputId": "5f0c6c01-134b-44bf-bbba-8fea09c73ee7"
      },
      "source": [
        "# BLOCK E12\n",
        "test_output = test1_x\n",
        "testindex = test_output.index.values\n",
        "for i in range(0, len(testindex)):\n",
        "  test_output['home_team'][testindex[i]] = h2hdata['home_team'][testindex[i]]\n",
        "  test_output['away_team'][testindex[i]] = h2hdata['away_team'][testindex[i]]\n",
        "test_output['home_win'] = pred_data['HOME WIN'].to_numpy()\n",
        "test_output['draw'] = pred_data['DRAW'].to_numpy()\n",
        "test_output['away_win'] = pred_data['AWAY WIN'].to_numpy()\n",
        "test_output"
      ],
      "execution_count": 194,
      "outputs": [
        {
          "output_type": "stream",
          "text": [
            "/usr/local/lib/python3.6/dist-packages/ipykernel_launcher.py:5: SettingWithCopyWarning: \n",
            "A value is trying to be set on a copy of a slice from a DataFrame\n",
            "\n",
            "See the caveats in the documentation: https://pandas.pydata.org/pandas-docs/stable/user_guide/indexing.html#returning-a-view-versus-a-copy\n",
            "  \"\"\"\n",
            "/usr/local/lib/python3.6/dist-packages/pandas/core/indexing.py:671: SettingWithCopyWarning: \n",
            "A value is trying to be set on a copy of a slice from a DataFrame\n",
            "\n",
            "See the caveats in the documentation: https://pandas.pydata.org/pandas-docs/stable/user_guide/indexing.html#returning-a-view-versus-a-copy\n",
            "  self._setitem_with_indexer(indexer, value)\n",
            "/usr/local/lib/python3.6/dist-packages/ipykernel_launcher.py:6: SettingWithCopyWarning: \n",
            "A value is trying to be set on a copy of a slice from a DataFrame\n",
            "\n",
            "See the caveats in the documentation: https://pandas.pydata.org/pandas-docs/stable/user_guide/indexing.html#returning-a-view-versus-a-copy\n",
            "  \n"
          ],
          "name": "stderr"
        },
        {
          "output_type": "execute_result",
          "data": {
            "text/html": [
              "<div>\n",
              "<style scoped>\n",
              "    .dataframe tbody tr th:only-of-type {\n",
              "        vertical-align: middle;\n",
              "    }\n",
              "\n",
              "    .dataframe tbody tr th {\n",
              "        vertical-align: top;\n",
              "    }\n",
              "\n",
              "    .dataframe thead th {\n",
              "        text-align: right;\n",
              "    }\n",
              "</style>\n",
              "<table border=\"1\" class=\"dataframe\">\n",
              "  <thead>\n",
              "    <tr style=\"text-align: right;\">\n",
              "      <th></th>\n",
              "      <th>home_team</th>\n",
              "      <th>away_team</th>\n",
              "      <th>home_rating</th>\n",
              "      <th>away_rating</th>\n",
              "      <th>year</th>\n",
              "      <th>home_win</th>\n",
              "      <th>draw</th>\n",
              "      <th>away_win</th>\n",
              "    </tr>\n",
              "  </thead>\n",
              "  <tbody>\n",
              "    <tr>\n",
              "      <th>690</th>\n",
              "      <td>Birmingham City</td>\n",
              "      <td>Manchester City</td>\n",
              "      <td>0.117647</td>\n",
              "      <td>1.000000</td>\n",
              "      <td>0.142857</td>\n",
              "      <td>19.221836</td>\n",
              "      <td>37.989777</td>\n",
              "      <td>42.788383</td>\n",
              "    </tr>\n",
              "    <tr>\n",
              "      <th>564</th>\n",
              "      <td>Everton</td>\n",
              "      <td>Bolton Wanderers</td>\n",
              "      <td>0.647059</td>\n",
              "      <td>0.117647</td>\n",
              "      <td>0.142857</td>\n",
              "      <td>68.325607</td>\n",
              "      <td>20.405014</td>\n",
              "      <td>11.269382</td>\n",
              "    </tr>\n",
              "    <tr>\n",
              "      <th>163</th>\n",
              "      <td>Watford</td>\n",
              "      <td>Reading</td>\n",
              "      <td>0.470588</td>\n",
              "      <td>0.117647</td>\n",
              "      <td>0.0714286</td>\n",
              "      <td>50.275517</td>\n",
              "      <td>26.849354</td>\n",
              "      <td>22.875134</td>\n",
              "    </tr>\n",
              "    <tr>\n",
              "      <th>763</th>\n",
              "      <td>Hull City</td>\n",
              "      <td>Fulham</td>\n",
              "      <td>0.294118</td>\n",
              "      <td>0.470588</td>\n",
              "      <td>0.214286</td>\n",
              "      <td>36.594479</td>\n",
              "      <td>28.926266</td>\n",
              "      <td>34.479256</td>\n",
              "    </tr>\n",
              "    <tr>\n",
              "      <th>3833</th>\n",
              "      <td>Burnley</td>\n",
              "      <td>Hull City</td>\n",
              "      <td>0.235294</td>\n",
              "      <td>0.294118</td>\n",
              "      <td>0.785714</td>\n",
              "      <td>42.228127</td>\n",
              "      <td>29.613642</td>\n",
              "      <td>28.158232</td>\n",
              "    </tr>\n",
              "    <tr>\n",
              "      <th>...</th>\n",
              "      <td>...</td>\n",
              "      <td>...</td>\n",
              "      <td>...</td>\n",
              "      <td>...</td>\n",
              "      <td>...</td>\n",
              "      <td>...</td>\n",
              "      <td>...</td>\n",
              "      <td>...</td>\n",
              "    </tr>\n",
              "    <tr>\n",
              "      <th>2656</th>\n",
              "      <td>Tottenham Hotspur</td>\n",
              "      <td>Sunderland</td>\n",
              "      <td>0.882353</td>\n",
              "      <td>0.470588</td>\n",
              "      <td>0.5</td>\n",
              "      <td>66.562912</td>\n",
              "      <td>20.726093</td>\n",
              "      <td>12.710995</td>\n",
              "    </tr>\n",
              "    <tr>\n",
              "      <th>4678</th>\n",
              "      <td>Liverpool</td>\n",
              "      <td>Fulham</td>\n",
              "      <td>0.823529</td>\n",
              "      <td>0.470588</td>\n",
              "      <td>0.928571</td>\n",
              "      <td>68.293579</td>\n",
              "      <td>20.029404</td>\n",
              "      <td>11.677021</td>\n",
              "    </tr>\n",
              "    <tr>\n",
              "      <th>659</th>\n",
              "      <td>Blackburn Rovers</td>\n",
              "      <td>Fulham</td>\n",
              "      <td>0.117647</td>\n",
              "      <td>0.470588</td>\n",
              "      <td>0.142857</td>\n",
              "      <td>38.425697</td>\n",
              "      <td>31.691900</td>\n",
              "      <td>29.882395</td>\n",
              "    </tr>\n",
              "    <tr>\n",
              "      <th>531</th>\n",
              "      <td>Everton</td>\n",
              "      <td>Fulham</td>\n",
              "      <td>0.647059</td>\n",
              "      <td>0.470588</td>\n",
              "      <td>0.142857</td>\n",
              "      <td>59.111423</td>\n",
              "      <td>24.079588</td>\n",
              "      <td>16.808992</td>\n",
              "    </tr>\n",
              "    <tr>\n",
              "      <th>1473</th>\n",
              "      <td>Chelsea</td>\n",
              "      <td>Bolton Wanderers</td>\n",
              "      <td>0.882353</td>\n",
              "      <td>0.117647</td>\n",
              "      <td>0.285714</td>\n",
              "      <td>76.853188</td>\n",
              "      <td>16.005917</td>\n",
              "      <td>7.140895</td>\n",
              "    </tr>\n",
              "  </tbody>\n",
              "</table>\n",
              "<p>247 rows × 8 columns</p>\n",
              "</div>"
            ],
            "text/plain": [
              "              home_team         away_team  ...       draw   away_win\n",
              "690     Birmingham City   Manchester City  ...  37.989777  42.788383\n",
              "564             Everton  Bolton Wanderers  ...  20.405014  11.269382\n",
              "163             Watford           Reading  ...  26.849354  22.875134\n",
              "763           Hull City            Fulham  ...  28.926266  34.479256\n",
              "3833            Burnley         Hull City  ...  29.613642  28.158232\n",
              "...                 ...               ...  ...        ...        ...\n",
              "2656  Tottenham Hotspur        Sunderland  ...  20.726093  12.710995\n",
              "4678          Liverpool            Fulham  ...  20.029404  11.677021\n",
              "659    Blackburn Rovers            Fulham  ...  31.691900  29.882395\n",
              "531             Everton            Fulham  ...  24.079588  16.808992\n",
              "1473            Chelsea  Bolton Wanderers  ...  16.005917   7.140895\n",
              "\n",
              "[247 rows x 8 columns]"
            ]
          },
          "metadata": {
            "tags": []
          },
          "execution_count": 194
        }
      ]
    },
    {
      "cell_type": "code",
      "metadata": {
        "id": "xxIkBPoqmBBu",
        "colab_type": "code",
        "colab": {}
      },
      "source": [
        "# BLOCK E13\n",
        "test_output['result'] = \"DRAW\"\n",
        "for i in test_output.index:\n",
        "  if(test_output['home_win'][i]>=test_output['away_win'][i] and test_output['home_win'][i]>=test_output['draw'][i]):\n",
        "    test_output['result'][i] = \"HOME\"\n",
        "  if(test_output['away_win'][i]>=test_output['home_win'][i] and test_output['away_win'][i]>=test_output['draw'][i]):\n",
        "    test_output['result'][i] = \"AWAY\"\n",
        "test_output"
      ],
      "execution_count": null,
      "outputs": []
    },
    {
      "cell_type": "code",
      "metadata": {
        "id": "pkFFNHpHcRR3",
        "colab_type": "code",
        "colab": {}
      },
      "source": [
        "test['result'] = \"DRAW\"\n",
        "for i in test.index:\n",
        "  if(test['home_score'][i] > test['away_score'][i]):\n",
        "    test['result'][i] = \"HOME\"\n",
        "  if(test['away_score'][i] > test['home_score'][i]):\n",
        "    test['result'][i] = \"AWAY\"\n",
        "test"
      ],
      "execution_count": null,
      "outputs": []
    },
    {
      "cell_type": "code",
      "metadata": {
        "id": "J3zESQADn-VM",
        "colab_type": "code",
        "colab": {
          "base_uri": "https://localhost:8080/",
          "height": 34
        },
        "outputId": "79b1f24a-7304-4f24-fa85-06b9c96cb64c"
      },
      "source": [
        "sum = 0\n",
        "for i in test.index:\n",
        "  if(test['result'][i] == test_output['result'][i]):\n",
        "    sum = sum + 1\n",
        "test_acc = sum\n",
        "test_acc"
      ],
      "execution_count": 218,
      "outputs": [
        {
          "output_type": "execute_result",
          "data": {
            "text/plain": [
              "0.5384615384615384"
            ]
          },
          "metadata": {
            "tags": []
          },
          "execution_count": 218
        }
      ]
    },
    {
      "cell_type": "code",
      "metadata": {
        "id": "W9AzSm7kpNyg",
        "colab_type": "code",
        "colab": {}
      },
      "source": [
        "# BLOCK E14\n",
        "def predictor(home, away):\n",
        "  teamlist = []\n",
        "  for i in range(0, len(h2hdata)):\n",
        "    teamlist.append(h2hdata['home_team'][i])\n",
        "  teamlist = pd.unique(teamlist)\n",
        "  teamlist = np.sort(teamlist)\n",
        "  teamindex = np.zeros(len(teamlist))\n",
        "  homecount = 0\n",
        "  awaycount = 0\n",
        "  for i in range(0, len(teamindex)):\n",
        "    if(teamlist[i] == home):\n",
        "      homecount = 1\n",
        "    if(teamlist[i] == away):\n",
        "      awaycount = 1\n",
        "    teamindex[i] = i\n",
        "  if(homecount == 1):\n",
        "    homeindex = np.where(teamlist == home)[0][0]\n",
        "  if(awaycount == 1):\n",
        "    awayindex = np.where(teamlist == away)[0][0]\n",
        "  if(homecount == 0):\n",
        "    homeindex = np.random.randint(0, len(teamlist))\n",
        "  if(awaycount == 0):\n",
        "    awayindex = np.random.randint(0, len(teamlist))\n",
        "  homerating = average_team_rating(home, 2020)\n",
        "  awayrating = average_team_rating(away, 2020)\n",
        "  if(homerating == 0):\n",
        "    homerating = max(average_team_rating(home, 2015), average_team_rating(home, 2016), average_team_rating(home, 2017),\n",
        "                     average_team_rating(home, 2018), average_team_rating(home, 2019), 72)\n",
        "  if(awayrating == 0):\n",
        "    awayrating = max(average_team_rating(away, 2015), average_team_rating(away, 2016), average_team_rating(away, 2017),\n",
        "                     average_team_rating(away, 2018), average_team_rating(away, 2019), 72)\n",
        "  input = np.array([homeindex, awayindex, (homerating - 70)/(87-70), (awayrating - 70)/(87-70), 0.5])\n",
        "  input = pd.DataFrame(input)\n",
        "  input = input.transpose()\n",
        "  preds = model.predict(input)\n",
        "  return preds"
      ],
      "execution_count": 195,
      "outputs": []
    },
    {
      "cell_type": "code",
      "metadata": {
        "id": "8GtYFqso789W",
        "colab_type": "code",
        "colab": {}
      },
      "source": [
        "# BLOCK E15\n",
        "def display_preds(home, away):\n",
        "  preds = predictor(home, away)\n",
        "  print(\"Win probability for: \" + str(home) + \" is \" + str(round(preds[0][2]*100, 0)) + \"%\")\n",
        "  print(\"Win probability for: \" + str(away) + \" is \" + str(round(preds[0][0]*100, 0)) + \"%\")\n",
        "  print(\"Probability of a draw is \" + str(round(preds[0][1]*100, 0)) + \"%\")"
      ],
      "execution_count": 51,
      "outputs": []
    },
    {
      "cell_type": "code",
      "metadata": {
        "id": "TfDyH3UHHt0w",
        "colab_type": "code",
        "colab": {
          "base_uri": "https://localhost:8080/",
          "height": 67
        },
        "outputId": "19e7abd5-3e50-42bf-9738-a67b0e4c59ef"
      },
      "source": [
        "# BLOCK E16\n",
        "# SAMPLE CODE\n",
        "# Probabilities if the teams were to play in the Premier League in 2020\n",
        "display_preds(\"Sheffield United\", \"Liverpool\")"
      ],
      "execution_count": 57,
      "outputs": [
        {
          "output_type": "stream",
          "text": [
            "Win probability for: Sheffield United is 19.0%\n",
            "Win probability for: Liverpool is 61.0%\n",
            "Probability of a draw is 20.0%\n"
          ],
          "name": "stdout"
        }
      ]
    },
    {
      "cell_type": "code",
      "metadata": {
        "id": "Iu6ZoDBO1b6y",
        "colab_type": "code",
        "colab": {
          "base_uri": "https://localhost:8080/",
          "height": 402
        },
        "outputId": "16e5b799-66cf-4ab3-af52-675cfbd25e4b"
      },
      "source": [
        "# BLOCK E17\n",
        "schedule = pd.DataFrame(schedule)\n",
        "if(len(schedule) != 380):\n",
        "  schedule = schedule.drop([380, 381], axis = 0)\n",
        "schedule"
      ],
      "execution_count": 221,
      "outputs": [
        {
          "output_type": "execute_result",
          "data": {
            "text/html": [
              "<div>\n",
              "<style scoped>\n",
              "    .dataframe tbody tr th:only-of-type {\n",
              "        vertical-align: middle;\n",
              "    }\n",
              "\n",
              "    .dataframe tbody tr th {\n",
              "        vertical-align: top;\n",
              "    }\n",
              "\n",
              "    .dataframe thead th {\n",
              "        text-align: right;\n",
              "    }\n",
              "</style>\n",
              "<table border=\"1\" class=\"dataframe\">\n",
              "  <thead>\n",
              "    <tr style=\"text-align: right;\">\n",
              "      <th></th>\n",
              "      <th>0</th>\n",
              "      <th>1</th>\n",
              "      <th>2</th>\n",
              "      <th>3</th>\n",
              "      <th>4</th>\n",
              "      <th>5</th>\n",
              "      <th>6</th>\n",
              "    </tr>\n",
              "  </thead>\n",
              "  <tbody>\n",
              "    <tr>\n",
              "      <th>0</th>\n",
              "      <td>LIV</td>\n",
              "      <td>Liverpool</td>\n",
              "      <td>09-08-2019</td>\n",
              "      <td>20:00:00</td>\n",
              "      <td>NOR</td>\n",
              "      <td>Norwich City</td>\n",
              "      <td>Anfield, Liverpool</td>\n",
              "    </tr>\n",
              "    <tr>\n",
              "      <th>1</th>\n",
              "      <td>BOU</td>\n",
              "      <td>Bournemouth</td>\n",
              "      <td>10-08-2019</td>\n",
              "      <td>15:00:00</td>\n",
              "      <td>SUN</td>\n",
              "      <td>Sheffield United</td>\n",
              "      <td>Vitality Stadium, Bournemouth</td>\n",
              "    </tr>\n",
              "    <tr>\n",
              "      <th>2</th>\n",
              "      <td>BUR</td>\n",
              "      <td>Burnley</td>\n",
              "      <td>10-08-2019</td>\n",
              "      <td>15:00:00</td>\n",
              "      <td>SOU</td>\n",
              "      <td>Southampton</td>\n",
              "      <td>Turf Moor, Burnley</td>\n",
              "    </tr>\n",
              "    <tr>\n",
              "      <th>3</th>\n",
              "      <td>CRY</td>\n",
              "      <td>Crystal Palace</td>\n",
              "      <td>10-08-2019</td>\n",
              "      <td>15:00:00</td>\n",
              "      <td>EVE</td>\n",
              "      <td>Everton</td>\n",
              "      <td>Selhurst Park, London</td>\n",
              "    </tr>\n",
              "    <tr>\n",
              "      <th>4</th>\n",
              "      <td>LEI</td>\n",
              "      <td>Leicester City</td>\n",
              "      <td>10-08-2019</td>\n",
              "      <td>15:00:00</td>\n",
              "      <td>WOL</td>\n",
              "      <td>Wolverhampton Wanderers</td>\n",
              "      <td>King Power Stadium, Leicester</td>\n",
              "    </tr>\n",
              "    <tr>\n",
              "      <th>...</th>\n",
              "      <td>...</td>\n",
              "      <td>...</td>\n",
              "      <td>...</td>\n",
              "      <td>...</td>\n",
              "      <td>...</td>\n",
              "      <td>...</td>\n",
              "      <td>...</td>\n",
              "    </tr>\n",
              "    <tr>\n",
              "      <th>375</th>\n",
              "      <td>LEI</td>\n",
              "      <td>Leicester City</td>\n",
              "      <td>17-05-2020</td>\n",
              "      <td>15:00:00</td>\n",
              "      <td>MUN</td>\n",
              "      <td>Manchester United</td>\n",
              "      <td>King Power Stadium, Leicester</td>\n",
              "    </tr>\n",
              "    <tr>\n",
              "      <th>376</th>\n",
              "      <td>MCI</td>\n",
              "      <td>Manchester City</td>\n",
              "      <td>17-05-2020</td>\n",
              "      <td>15:00:00</td>\n",
              "      <td>NOR</td>\n",
              "      <td>Norwich City</td>\n",
              "      <td>Etihad Stadium, Manchester</td>\n",
              "    </tr>\n",
              "    <tr>\n",
              "      <th>377</th>\n",
              "      <td>NEW</td>\n",
              "      <td>Newcastle United</td>\n",
              "      <td>17-05-2020</td>\n",
              "      <td>15:00:00</td>\n",
              "      <td>LIV</td>\n",
              "      <td>Liverpool</td>\n",
              "      <td>St. James' Park, Newcastle</td>\n",
              "    </tr>\n",
              "    <tr>\n",
              "      <th>378</th>\n",
              "      <td>SOU</td>\n",
              "      <td>Southampton</td>\n",
              "      <td>17-05-2020</td>\n",
              "      <td>15:00:00</td>\n",
              "      <td>SUN</td>\n",
              "      <td>Sheffield United</td>\n",
              "      <td>St. Mary's Stadium, Southampton</td>\n",
              "    </tr>\n",
              "    <tr>\n",
              "      <th>379</th>\n",
              "      <td>WHU</td>\n",
              "      <td>West Ham United</td>\n",
              "      <td>17-05-2020</td>\n",
              "      <td>15:00:00</td>\n",
              "      <td>VIL</td>\n",
              "      <td>Aston Villa</td>\n",
              "      <td>London Stadium, London</td>\n",
              "    </tr>\n",
              "  </tbody>\n",
              "</table>\n",
              "<p>380 rows × 7 columns</p>\n",
              "</div>"
            ],
            "text/plain": [
              "       0  ...                                6\n",
              "0    LIV  ...               Anfield, Liverpool\n",
              "1    BOU  ...    Vitality Stadium, Bournemouth\n",
              "2    BUR  ...               Turf Moor, Burnley\n",
              "3    CRY  ...            Selhurst Park, London\n",
              "4    LEI  ...    King Power Stadium, Leicester\n",
              "..   ...  ...                              ...\n",
              "375  LEI  ...    King Power Stadium, Leicester\n",
              "376  MCI  ...       Etihad Stadium, Manchester\n",
              "377  NEW  ...       St. James' Park, Newcastle\n",
              "378  SOU  ...  St. Mary's Stadium, Southampton\n",
              "379  WHU  ...           London Stadium, London\n",
              "\n",
              "[380 rows x 7 columns]"
            ]
          },
          "metadata": {
            "tags": []
          },
          "execution_count": 221
        }
      ]
    },
    {
      "cell_type": "code",
      "metadata": {
        "id": "spd47QSF2qn-",
        "colab_type": "code",
        "colab": {
          "base_uri": "https://localhost:8080/",
          "height": 654
        },
        "outputId": "8f606d2e-f4df-4984-89f9-9413b01ca9a7"
      },
      "source": [
        "# BLOCK E18\n",
        "schedule['home_win'] = np.zeros(380)\n",
        "schedule['away_win'] = np.zeros(380)\n",
        "schedule['draw'] = np.zeros(380)\n",
        "for i in range(0, 380):\n",
        "  pred = predictor(schedule[1][i], schedule[5][i])\n",
        "  schedule['home_win'][i] = round(pred[0][2]*100, 2)\n",
        "  schedule['away_win'][i] = round(pred[0][0]*100, 2)\n",
        "  schedule['draw'][i] = round(pred[0][1]*100, 2)\n",
        "schedule"
      ],
      "execution_count": 59,
      "outputs": [
        {
          "output_type": "stream",
          "text": [
            "/usr/local/lib/python3.6/dist-packages/ipykernel_launcher.py:7: SettingWithCopyWarning: \n",
            "A value is trying to be set on a copy of a slice from a DataFrame\n",
            "\n",
            "See the caveats in the documentation: https://pandas.pydata.org/pandas-docs/stable/user_guide/indexing.html#returning-a-view-versus-a-copy\n",
            "  import sys\n",
            "/usr/local/lib/python3.6/dist-packages/ipykernel_launcher.py:8: SettingWithCopyWarning: \n",
            "A value is trying to be set on a copy of a slice from a DataFrame\n",
            "\n",
            "See the caveats in the documentation: https://pandas.pydata.org/pandas-docs/stable/user_guide/indexing.html#returning-a-view-versus-a-copy\n",
            "  \n",
            "/usr/local/lib/python3.6/dist-packages/ipykernel_launcher.py:9: SettingWithCopyWarning: \n",
            "A value is trying to be set on a copy of a slice from a DataFrame\n",
            "\n",
            "See the caveats in the documentation: https://pandas.pydata.org/pandas-docs/stable/user_guide/indexing.html#returning-a-view-versus-a-copy\n",
            "  if __name__ == '__main__':\n"
          ],
          "name": "stderr"
        },
        {
          "output_type": "execute_result",
          "data": {
            "text/html": [
              "<div>\n",
              "<style scoped>\n",
              "    .dataframe tbody tr th:only-of-type {\n",
              "        vertical-align: middle;\n",
              "    }\n",
              "\n",
              "    .dataframe tbody tr th {\n",
              "        vertical-align: top;\n",
              "    }\n",
              "\n",
              "    .dataframe thead th {\n",
              "        text-align: right;\n",
              "    }\n",
              "</style>\n",
              "<table border=\"1\" class=\"dataframe\">\n",
              "  <thead>\n",
              "    <tr style=\"text-align: right;\">\n",
              "      <th></th>\n",
              "      <th>0</th>\n",
              "      <th>1</th>\n",
              "      <th>2</th>\n",
              "      <th>3</th>\n",
              "      <th>4</th>\n",
              "      <th>5</th>\n",
              "      <th>6</th>\n",
              "      <th>home_win</th>\n",
              "      <th>away_win</th>\n",
              "      <th>draw</th>\n",
              "    </tr>\n",
              "  </thead>\n",
              "  <tbody>\n",
              "    <tr>\n",
              "      <th>0</th>\n",
              "      <td>LIV</td>\n",
              "      <td>Liverpool</td>\n",
              "      <td>09-08-2019</td>\n",
              "      <td>20:00:00</td>\n",
              "      <td>NOR</td>\n",
              "      <td>Norwich City</td>\n",
              "      <td>Anfield, Liverpool</td>\n",
              "      <td>80.48</td>\n",
              "      <td>5.22</td>\n",
              "      <td>14.30</td>\n",
              "    </tr>\n",
              "    <tr>\n",
              "      <th>1</th>\n",
              "      <td>BOU</td>\n",
              "      <td>Bournemouth</td>\n",
              "      <td>10-08-2019</td>\n",
              "      <td>15:00:00</td>\n",
              "      <td>SUN</td>\n",
              "      <td>Sheffield United</td>\n",
              "      <td>Vitality Stadium, Bournemouth</td>\n",
              "      <td>59.84</td>\n",
              "      <td>15.60</td>\n",
              "      <td>24.56</td>\n",
              "    </tr>\n",
              "    <tr>\n",
              "      <th>2</th>\n",
              "      <td>BUR</td>\n",
              "      <td>Burnley</td>\n",
              "      <td>10-08-2019</td>\n",
              "      <td>15:00:00</td>\n",
              "      <td>SOU</td>\n",
              "      <td>Southampton</td>\n",
              "      <td>Turf Moor, Burnley</td>\n",
              "      <td>47.08</td>\n",
              "      <td>24.69</td>\n",
              "      <td>28.23</td>\n",
              "    </tr>\n",
              "    <tr>\n",
              "      <th>3</th>\n",
              "      <td>CRY</td>\n",
              "      <td>Crystal Palace</td>\n",
              "      <td>10-08-2019</td>\n",
              "      <td>15:00:00</td>\n",
              "      <td>EVE</td>\n",
              "      <td>Everton</td>\n",
              "      <td>Selhurst Park, London</td>\n",
              "      <td>33.58</td>\n",
              "      <td>37.48</td>\n",
              "      <td>28.94</td>\n",
              "    </tr>\n",
              "    <tr>\n",
              "      <th>4</th>\n",
              "      <td>LEI</td>\n",
              "      <td>Leicester City</td>\n",
              "      <td>10-08-2019</td>\n",
              "      <td>15:00:00</td>\n",
              "      <td>WOL</td>\n",
              "      <td>Wolverhampton Wanderers</td>\n",
              "      <td>King Power Stadium, Leicester</td>\n",
              "      <td>47.60</td>\n",
              "      <td>25.55</td>\n",
              "      <td>26.85</td>\n",
              "    </tr>\n",
              "    <tr>\n",
              "      <th>...</th>\n",
              "      <td>...</td>\n",
              "      <td>...</td>\n",
              "      <td>...</td>\n",
              "      <td>...</td>\n",
              "      <td>...</td>\n",
              "      <td>...</td>\n",
              "      <td>...</td>\n",
              "      <td>...</td>\n",
              "      <td>...</td>\n",
              "      <td>...</td>\n",
              "    </tr>\n",
              "    <tr>\n",
              "      <th>375</th>\n",
              "      <td>LEI</td>\n",
              "      <td>Leicester City</td>\n",
              "      <td>17-05-2020</td>\n",
              "      <td>15:00:00</td>\n",
              "      <td>MUN</td>\n",
              "      <td>Manchester United</td>\n",
              "      <td>King Power Stadium, Leicester</td>\n",
              "      <td>38.15</td>\n",
              "      <td>34.76</td>\n",
              "      <td>27.09</td>\n",
              "    </tr>\n",
              "    <tr>\n",
              "      <th>376</th>\n",
              "      <td>MCI</td>\n",
              "      <td>Manchester City</td>\n",
              "      <td>17-05-2020</td>\n",
              "      <td>15:00:00</td>\n",
              "      <td>NOR</td>\n",
              "      <td>Norwich City</td>\n",
              "      <td>Etihad Stadium, Manchester</td>\n",
              "      <td>79.94</td>\n",
              "      <td>5.48</td>\n",
              "      <td>14.59</td>\n",
              "    </tr>\n",
              "    <tr>\n",
              "      <th>377</th>\n",
              "      <td>NEW</td>\n",
              "      <td>Newcastle United</td>\n",
              "      <td>17-05-2020</td>\n",
              "      <td>15:00:00</td>\n",
              "      <td>LIV</td>\n",
              "      <td>Liverpool</td>\n",
              "      <td>St. James' Park, Newcastle</td>\n",
              "      <td>19.47</td>\n",
              "      <td>61.22</td>\n",
              "      <td>19.31</td>\n",
              "    </tr>\n",
              "    <tr>\n",
              "      <th>378</th>\n",
              "      <td>SOU</td>\n",
              "      <td>Southampton</td>\n",
              "      <td>17-05-2020</td>\n",
              "      <td>15:00:00</td>\n",
              "      <td>SUN</td>\n",
              "      <td>Sheffield United</td>\n",
              "      <td>St. Mary's Stadium, Southampton</td>\n",
              "      <td>46.62</td>\n",
              "      <td>26.02</td>\n",
              "      <td>27.36</td>\n",
              "    </tr>\n",
              "    <tr>\n",
              "      <th>379</th>\n",
              "      <td>WHU</td>\n",
              "      <td>West Ham United</td>\n",
              "      <td>17-05-2020</td>\n",
              "      <td>15:00:00</td>\n",
              "      <td>VIL</td>\n",
              "      <td>Aston Villa</td>\n",
              "      <td>London Stadium, London</td>\n",
              "      <td>43.37</td>\n",
              "      <td>27.68</td>\n",
              "      <td>28.96</td>\n",
              "    </tr>\n",
              "  </tbody>\n",
              "</table>\n",
              "<p>380 rows × 10 columns</p>\n",
              "</div>"
            ],
            "text/plain": [
              "       0                 1           2  ... home_win away_win   draw\n",
              "0    LIV         Liverpool  09-08-2019  ...    80.48     5.22  14.30\n",
              "1    BOU       Bournemouth  10-08-2019  ...    59.84    15.60  24.56\n",
              "2    BUR           Burnley  10-08-2019  ...    47.08    24.69  28.23\n",
              "3    CRY    Crystal Palace  10-08-2019  ...    33.58    37.48  28.94\n",
              "4    LEI    Leicester City  10-08-2019  ...    47.60    25.55  26.85\n",
              "..   ...               ...         ...  ...      ...      ...    ...\n",
              "375  LEI    Leicester City  17-05-2020  ...    38.15    34.76  27.09\n",
              "376  MCI   Manchester City  17-05-2020  ...    79.94     5.48  14.59\n",
              "377  NEW  Newcastle United  17-05-2020  ...    19.47    61.22  19.31\n",
              "378  SOU       Southampton  17-05-2020  ...    46.62    26.02  27.36\n",
              "379  WHU   West Ham United  17-05-2020  ...    43.37    27.68  28.96\n",
              "\n",
              "[380 rows x 10 columns]"
            ]
          },
          "metadata": {
            "tags": []
          },
          "execution_count": 59
        }
      ]
    },
    {
      "cell_type": "code",
      "metadata": {
        "id": "_d1Ch1SU_RQY",
        "colab_type": "code",
        "colab": {
          "base_uri": "https://localhost:8080/",
          "height": 353
        },
        "outputId": "05941a23-e7ec-4ccf-e401-026e8c43fb51"
      },
      "source": [
        "# BLOCK E19\n",
        "schedule = schedule.rename(columns = {0:\"home_abbr\", 1:\"home_name\", 2: \"date\", 3:\"time\", 4:\"away_abbr\", 5:\"away_name\", 6:\"stadium\"})\n",
        "schedule['predicted'] = np.zeros(380)\n",
        "for i in range(0, 380):\n",
        "  if(schedule['home_win'][i] >= schedule['away_win'][i] and schedule['home_win'][i] >= schedule['draw'][i]):\n",
        "    schedule['predicted'][i] = schedule[\"home_abbr\"][i]\n",
        "  if(schedule['away_win'][i] >= schedule['home_win'][i] and schedule['away_win'][i] >= schedule['draw'][i]):\n",
        "    schedule['predicted'][i] = schedule['away_abbr'][i]\n",
        "  if(schedule['draw'][i] >= schedule['away_win'][i] and schedule['home_win'][i] <= schedule['draw'][i]):\n",
        "    schedule['predicted'][i] = \"DRAW\" "
      ],
      "execution_count": null,
      "outputs": [
        {
          "output_type": "stream",
          "text": [
            "/usr/local/lib/python3.6/dist-packages/ipykernel_launcher.py:6: SettingWithCopyWarning: \n",
            "A value is trying to be set on a copy of a slice from a DataFrame\n",
            "\n",
            "See the caveats in the documentation: https://pandas.pydata.org/pandas-docs/stable/user_guide/indexing.html#returning-a-view-versus-a-copy\n",
            "  \n",
            "/usr/local/lib/python3.6/dist-packages/pandas/core/indexing.py:671: SettingWithCopyWarning: \n",
            "A value is trying to be set on a copy of a slice from a DataFrame\n",
            "\n",
            "See the caveats in the documentation: https://pandas.pydata.org/pandas-docs/stable/user_guide/indexing.html#returning-a-view-versus-a-copy\n",
            "  self._setitem_with_indexer(indexer, value)\n",
            "/usr/local/lib/python3.6/dist-packages/ipykernel_launcher.py:8: SettingWithCopyWarning: \n",
            "A value is trying to be set on a copy of a slice from a DataFrame\n",
            "\n",
            "See the caveats in the documentation: https://pandas.pydata.org/pandas-docs/stable/user_guide/indexing.html#returning-a-view-versus-a-copy\n",
            "  \n",
            "/usr/local/lib/python3.6/dist-packages/ipykernel_launcher.py:10: SettingWithCopyWarning: \n",
            "A value is trying to be set on a copy of a slice from a DataFrame\n",
            "\n",
            "See the caveats in the documentation: https://pandas.pydata.org/pandas-docs/stable/user_guide/indexing.html#returning-a-view-versus-a-copy\n",
            "  # Remove the CWD from sys.path while we load stuff.\n"
          ],
          "name": "stderr"
        }
      ]
    },
    {
      "cell_type": "code",
      "metadata": {
        "id": "XXUOXEOpBXr-",
        "colab_type": "code",
        "colab": {
          "base_uri": "https://localhost:8080/",
          "height": 202
        },
        "outputId": "5d84c344-0b8f-44c1-b6c8-49aeb1499500"
      },
      "source": [
        "# BLOCK E20\n",
        "# SAMPLE CODE\n",
        "schedule"
      ],
      "execution_count": 158,
      "outputs": [
        {
          "output_type": "execute_result",
          "data": {
            "text/plain": [
              "array([['LIV', 'Liverpool', '09-08-2019', ..., 'NOR', 'Norwich City',\n",
              "        'Anfield, Liverpool'],\n",
              "       ['BOU', 'Bournemouth', '10-08-2019', ..., 'SUN',\n",
              "        'Sheffield United', 'Vitality Stadium, Bournemouth'],\n",
              "       ['BUR', 'Burnley', '10-08-2019', ..., 'SOU', 'Southampton',\n",
              "        'Turf Moor, Burnley'],\n",
              "       ...,\n",
              "       ['WHU', 'West Ham United', '17-05-2020', ..., 'VIL',\n",
              "        'Aston Villa', 'London Stadium, London'],\n",
              "       [nan, nan, nan, ..., nan, nan, nan],\n",
              "       [nan, nan, nan, ..., nan, nan, nan]], dtype=object)"
            ]
          },
          "metadata": {
            "tags": []
          },
          "execution_count": 158
        }
      ]
    },
    {
      "cell_type": "code",
      "metadata": {
        "id": "sZIzM9-l9fQG",
        "colab_type": "code",
        "colab": {}
      },
      "source": [
        "# BLOCK E21\n",
        "schedule.to_csv('finalpred.csv', index = False)"
      ],
      "execution_count": 68,
      "outputs": []
    },
    {
      "cell_type": "code",
      "metadata": {
        "id": "MHpgmxFxwUOQ",
        "colab_type": "code",
        "colab": {}
      },
      "source": [
        "evedata = h2hdata[h2hdata['home_team'] == \"Everton\"]\n",
        "evedata"
      ],
      "execution_count": null,
      "outputs": []
    },
    {
      "cell_type": "code",
      "metadata": {
        "id": "5b5gZbCHwpHV",
        "colab_type": "code",
        "colab": {}
      },
      "source": [
        "def hagoals(team):\n",
        "  home_data = h2hdata[h2hdata['home_team']==team]\n",
        "  away_data = h2hdata[h2hdata['away_team']==team]\n",
        "  home_scored = 0\n",
        "  home_conceded = 0\n",
        "  away_scored = 0\n",
        "  away_conceded = 0\n",
        "  home_scored = home_data['home_score'].sum()/home_data.shape[0]\n",
        "  home_conceded = home_data['away_score'].sum()/home_data.shape[0]\n",
        "  away_scored = away_data['away_score'].sum()/away_data.shape[0]\n",
        "  away_conceded = away_data['home_score'].sum()/away_data.shape[0]\n",
        "  return home_scored, home_conceded, away_scored, away_conceded"
      ],
      "execution_count": 62,
      "outputs": []
    },
    {
      "cell_type": "code",
      "metadata": {
        "id": "l2l6Ho_F5XXB",
        "colab_type": "code",
        "colab": {
          "base_uri": "https://localhost:8080/",
          "height": 34
        },
        "outputId": "aaecd43d-4409-4f8a-d4ae-0d854e87e175"
      },
      "source": [
        "avg_home = h2hdata['home_score'].sum()/h2hdata.shape[0]\n",
        "avg_away = h2hdata['away_score'].sum()/h2hdata.shape[0]\n",
        "avg_away"
      ],
      "execution_count": 66,
      "outputs": [
        {
          "output_type": "execute_result",
          "data": {
            "text/plain": [
              "1.1520550718768983"
            ]
          },
          "metadata": {
            "tags": []
          },
          "execution_count": 66
        }
      ]
    },
    {
      "cell_type": "code",
      "metadata": {
        "id": "w3Br20VQzxDk",
        "colab_type": "code",
        "colab": {}
      },
      "source": [
        "def xg(home_team, away_team):\n",
        "  # Attack strength = Home or away team's average goals scored per home or away game / average home or away\n",
        "  # league goals scored per game\n",
        "  home_attack_str = hagoals(home_team)[0]/avg_home\n",
        "  away_attack_str = hagoals(away_team)[2]/avg_away\n",
        "  # Defensive strength = Home or away team's average goals conceded per home or away game / average home or away\n",
        "  # league goals conceded per game\n",
        "  home_def_str = hagoals(home_team)[1]/avg_away\n",
        "  away_def_str = hagoals(away_team)[3]/avg_home\n",
        "  # team_xg = their_attack_str*oppos_def_str*avg_home_or_away_goals\n",
        "  home_xg = home_attack_str*away_def_str*avg_home\n",
        "  away_xg = away_attack_str*home_def_str*avg_away\n",
        "  return home_xg, away_xg"
      ],
      "execution_count": 67,
      "outputs": []
    },
    {
      "cell_type": "code",
      "metadata": {
        "id": "RM9LmM5Z8MvW",
        "colab_type": "code",
        "colab": {}
      },
      "source": [
        "import math\n",
        "def scoreprobs(home_team, away_team):\n",
        "  home_goals = np.zeros(6)\n",
        "  away_goals = np.zeros(6)\n",
        "  score_matrix = pd.DataFrame(index = [0, 1, 2, 3, 4, 5], columns = [0, 1, 2, 3, 4, 5])\n",
        "  home_mu = xg(home_team, away_team)[0]\n",
        "  away_mu = xg(home_team, away_team)[1]\n",
        "  for i in range(0, len(home_goals)):\n",
        "    home_goals[i] = (home_mu**i)*math.exp(-home_mu)/math.factorial(i)\n",
        "  for i in range(0, len(away_goals)):\n",
        "    away_goals[i] = (away_mu**i)*math.exp(-away_mu)/math.factorial(i)\n",
        "  for i in range(0, len(home_goals)):\n",
        "    for j in range(0, len(away_goals)):\n",
        "      score_matrix[i][j] = home_goals[i]*away_goals[j]\n",
        "  return score_matrix*100"
      ],
      "execution_count": 128,
      "outputs": []
    },
    {
      "cell_type": "code",
      "metadata": {
        "id": "pdqmF2Y1Ec6e",
        "colab_type": "code",
        "colab": {}
      },
      "source": [
        "def getprobs(home_team, home_score, away_team, away_score):\n",
        "  if(home_score > 5 or away_score > 5):\n",
        "    return 0\n",
        "  score_prob = scoreprobs(home_team, away_team)\n",
        "  return score_prob[home_score][away_score]"
      ],
      "execution_count": 134,
      "outputs": []
    },
    {
      "cell_type": "code",
      "metadata": {
        "id": "qx73CNk8Of04",
        "colab_type": "code",
        "colab": {
          "base_uri": "https://localhost:8080/",
          "height": 225
        },
        "outputId": "3696c1f0-cc9e-4a35-f242-20c6328d38dc"
      },
      "source": [
        "scoreprobs(\"Manchester City\", \"Chelsea\")"
      ],
      "execution_count": 139,
      "outputs": [
        {
          "output_type": "execute_result",
          "data": {
            "text/html": [
              "<div>\n",
              "<style scoped>\n",
              "    .dataframe tbody tr th:only-of-type {\n",
              "        vertical-align: middle;\n",
              "    }\n",
              "\n",
              "    .dataframe tbody tr th {\n",
              "        vertical-align: top;\n",
              "    }\n",
              "\n",
              "    .dataframe thead th {\n",
              "        text-align: right;\n",
              "    }\n",
              "</style>\n",
              "<table border=\"1\" class=\"dataframe\">\n",
              "  <thead>\n",
              "    <tr style=\"text-align: right;\">\n",
              "      <th></th>\n",
              "      <th>0</th>\n",
              "      <th>1</th>\n",
              "      <th>2</th>\n",
              "      <th>3</th>\n",
              "      <th>4</th>\n",
              "      <th>5</th>\n",
              "    </tr>\n",
              "  </thead>\n",
              "  <tbody>\n",
              "    <tr>\n",
              "      <th>0</th>\n",
              "      <td>7.38556</td>\n",
              "      <td>10.8412</td>\n",
              "      <td>7.95681</td>\n",
              "      <td>3.89323</td>\n",
              "      <td>1.42871</td>\n",
              "      <td>0.419436</td>\n",
              "    </tr>\n",
              "    <tr>\n",
              "      <th>1</th>\n",
              "      <td>8.40297</td>\n",
              "      <td>12.3346</td>\n",
              "      <td>9.05291</td>\n",
              "      <td>4.42955</td>\n",
              "      <td>1.62552</td>\n",
              "      <td>0.477216</td>\n",
              "    </tr>\n",
              "    <tr>\n",
              "      <th>2</th>\n",
              "      <td>4.78026</td>\n",
              "      <td>7.01689</td>\n",
              "      <td>5.15</td>\n",
              "      <td>2.51987</td>\n",
              "      <td>0.924722</td>\n",
              "      <td>0.271477</td>\n",
              "    </tr>\n",
              "    <tr>\n",
              "      <th>3</th>\n",
              "      <td>1.81292</td>\n",
              "      <td>2.66117</td>\n",
              "      <td>1.95315</td>\n",
              "      <td>0.955666</td>\n",
              "      <td>0.350703</td>\n",
              "      <td>0.102958</td>\n",
              "    </tr>\n",
              "    <tr>\n",
              "      <th>4</th>\n",
              "      <td>0.515666</td>\n",
              "      <td>0.75694</td>\n",
              "      <td>0.555551</td>\n",
              "      <td>0.271829</td>\n",
              "      <td>0.0997535</td>\n",
              "      <td>0.0292854</td>\n",
              "    </tr>\n",
              "    <tr>\n",
              "      <th>5</th>\n",
              "      <td>0.11734</td>\n",
              "      <td>0.172243</td>\n",
              "      <td>0.126416</td>\n",
              "      <td>0.061855</td>\n",
              "      <td>0.022699</td>\n",
              "      <td>0.00666392</td>\n",
              "    </tr>\n",
              "  </tbody>\n",
              "</table>\n",
              "</div>"
            ],
            "text/plain": [
              "          0         1         2         3          4           5\n",
              "0   7.38556   10.8412   7.95681   3.89323    1.42871    0.419436\n",
              "1   8.40297   12.3346   9.05291   4.42955    1.62552    0.477216\n",
              "2   4.78026   7.01689      5.15   2.51987   0.924722    0.271477\n",
              "3   1.81292   2.66117   1.95315  0.955666   0.350703    0.102958\n",
              "4  0.515666   0.75694  0.555551  0.271829  0.0997535   0.0292854\n",
              "5   0.11734  0.172243  0.126416  0.061855   0.022699  0.00666392"
            ]
          },
          "metadata": {
            "tags": []
          },
          "execution_count": 139
        }
      ]
    },
    {
      "cell_type": "code",
      "metadata": {
        "id": "jkOSYnvvPPiK",
        "colab_type": "code",
        "colab": {}
      },
      "source": [
        "getprobs(\"Manchester City\", 0, \"Chelsea\", 4)"
      ],
      "execution_count": null,
      "outputs": []
    },
    {
      "cell_type": "code",
      "metadata": {
        "id": "mdMpHPqvQcM-",
        "colab_type": "code",
        "colab": {}
      },
      "source": [
        "def most_prob_score(home_team, away_team):\n",
        "  score_prob = scoreprobs(home_team, away_team)\n",
        "  likely_score = score_prob.max().max()\n",
        "  home_score, away_score = 0, 0\n",
        "  for i in range(0, score_prob.shape[0]):\n",
        "    for j in range(0, score_prob.shape[1]):\n",
        "      if(score_prob[i][j] == likely_score):\n",
        "        home_score, away_score = i, j\n",
        "  return home_score, away_score"
      ],
      "execution_count": 144,
      "outputs": []
    },
    {
      "cell_type": "code",
      "metadata": {
        "id": "sYPtkOhwTA1G",
        "colab_type": "code",
        "colab": {}
      },
      "source": [
        "pois_pred = schedule\n",
        "pois_pred['home_goals'] = 0\n",
        "pois_pred['away_goals'] = 0\n",
        "pois_pred['result'] = \"DRAW\"\n",
        "for i in range(0, pois_pred.shape[0]):\n",
        "  home_team = pois_pred[1][i]\n",
        "  away_team = pois_pred[5][i]\n",
        "  score = most_prob_score(home_team, away_team)\n",
        "  pois_pred['home_goals'][i] = score[0]\n",
        "  pois_pred['away_goals'][i] = score[1]\n",
        "  if(score[0]>score[1]):\n",
        "    pois_pred['result'][i] = pois_pred[0][i]\n",
        "  if(score[0]<score[1]):\n",
        "    pois_pred['result'][i] = pois_pred[4][i]\n",
        "pois_pred.to_csv(\"poispred.csv\", index = False)"
      ],
      "execution_count": null,
      "outputs": []
    }
  ]
}